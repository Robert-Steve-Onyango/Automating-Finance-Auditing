{
  "metadata": {
    "kernelspec": {
      "language": "python",
      "display_name": "Python 3",
      "name": "python3"
    },
    "language_info": {
      "name": "python",
      "version": "3.10.12",
      "mimetype": "text/x-python",
      "codemirror_mode": {
        "name": "ipython",
        "version": 3
      },
      "pygments_lexer": "ipython3",
      "nbconvert_exporter": "python",
      "file_extension": ".py"
    },
    "kaggle": {
      "accelerator": "gpu",
      "dataSources": [],
      "dockerImageVersionId": 30558,
      "isInternetEnabled": true,
      "language": "python",
      "sourceType": "notebook",
      "isGpuEnabled": true
    },
    "colab": {
      "name": "Sentiment and NER Analysis of Audit Comments",
      "provenance": []
    },
    "widgets": {
      "application/vnd.jupyter.widget-state+json": {
        "1a1507d7b2eb4e2da123945f793b33c2": {
          "model_module": "@jupyter-widgets/controls",
          "model_name": "HBoxModel",
          "model_module_version": "1.5.0",
          "state": {
            "_dom_classes": [],
            "_model_module": "@jupyter-widgets/controls",
            "_model_module_version": "1.5.0",
            "_model_name": "HBoxModel",
            "_view_count": null,
            "_view_module": "@jupyter-widgets/controls",
            "_view_module_version": "1.5.0",
            "_view_name": "HBoxView",
            "box_style": "",
            "children": [
              "IPY_MODEL_5ba5a285b6e2416d81d92484b2efc7c7",
              "IPY_MODEL_85d17d42bd6b42c284594d2ffbb8a21b",
              "IPY_MODEL_6ff91930fb164768b1bfb16220944b7c"
            ],
            "layout": "IPY_MODEL_a7debdd33fc548a0bb811493c8872d98"
          }
        },
        "5ba5a285b6e2416d81d92484b2efc7c7": {
          "model_module": "@jupyter-widgets/controls",
          "model_name": "HTMLModel",
          "model_module_version": "1.5.0",
          "state": {
            "_dom_classes": [],
            "_model_module": "@jupyter-widgets/controls",
            "_model_module_version": "1.5.0",
            "_model_name": "HTMLModel",
            "_view_count": null,
            "_view_module": "@jupyter-widgets/controls",
            "_view_module_version": "1.5.0",
            "_view_name": "HTMLView",
            "description": "",
            "description_tooltip": null,
            "layout": "IPY_MODEL_084adfa5e1124190b1511f01bf1652cb",
            "placeholder": "​",
            "style": "IPY_MODEL_90c0f87e20de4b22bb31af7efb7e2e05",
            "value": "README.md: 100%"
          }
        },
        "85d17d42bd6b42c284594d2ffbb8a21b": {
          "model_module": "@jupyter-widgets/controls",
          "model_name": "FloatProgressModel",
          "model_module_version": "1.5.0",
          "state": {
            "_dom_classes": [],
            "_model_module": "@jupyter-widgets/controls",
            "_model_module_version": "1.5.0",
            "_model_name": "FloatProgressModel",
            "_view_count": null,
            "_view_module": "@jupyter-widgets/controls",
            "_view_module_version": "1.5.0",
            "_view_name": "ProgressView",
            "bar_style": "success",
            "description": "",
            "description_tooltip": null,
            "layout": "IPY_MODEL_37cae4ff08b14eea84ad63d9699781d7",
            "max": 3707,
            "min": 0,
            "orientation": "horizontal",
            "style": "IPY_MODEL_f91fbc7824fa4ddd8336f522ea2713f0",
            "value": 3707
          }
        },
        "6ff91930fb164768b1bfb16220944b7c": {
          "model_module": "@jupyter-widgets/controls",
          "model_name": "HTMLModel",
          "model_module_version": "1.5.0",
          "state": {
            "_dom_classes": [],
            "_model_module": "@jupyter-widgets/controls",
            "_model_module_version": "1.5.0",
            "_model_name": "HTMLModel",
            "_view_count": null,
            "_view_module": "@jupyter-widgets/controls",
            "_view_module_version": "1.5.0",
            "_view_name": "HTMLView",
            "description": "",
            "description_tooltip": null,
            "layout": "IPY_MODEL_3a3d8d78fc0b4720b4feffda70cb1404",
            "placeholder": "​",
            "style": "IPY_MODEL_b1d849b1d0f54edda80b8c8f0f4b1385",
            "value": " 3.71k/3.71k [00:00&lt;00:00, 295kB/s]"
          }
        },
        "a7debdd33fc548a0bb811493c8872d98": {
          "model_module": "@jupyter-widgets/base",
          "model_name": "LayoutModel",
          "model_module_version": "1.2.0",
          "state": {
            "_model_module": "@jupyter-widgets/base",
            "_model_module_version": "1.2.0",
            "_model_name": "LayoutModel",
            "_view_count": null,
            "_view_module": "@jupyter-widgets/base",
            "_view_module_version": "1.2.0",
            "_view_name": "LayoutView",
            "align_content": null,
            "align_items": null,
            "align_self": null,
            "border": null,
            "bottom": null,
            "display": null,
            "flex": null,
            "flex_flow": null,
            "grid_area": null,
            "grid_auto_columns": null,
            "grid_auto_flow": null,
            "grid_auto_rows": null,
            "grid_column": null,
            "grid_gap": null,
            "grid_row": null,
            "grid_template_areas": null,
            "grid_template_columns": null,
            "grid_template_rows": null,
            "height": null,
            "justify_content": null,
            "justify_items": null,
            "left": null,
            "margin": null,
            "max_height": null,
            "max_width": null,
            "min_height": null,
            "min_width": null,
            "object_fit": null,
            "object_position": null,
            "order": null,
            "overflow": null,
            "overflow_x": null,
            "overflow_y": null,
            "padding": null,
            "right": null,
            "top": null,
            "visibility": null,
            "width": null
          }
        },
        "084adfa5e1124190b1511f01bf1652cb": {
          "model_module": "@jupyter-widgets/base",
          "model_name": "LayoutModel",
          "model_module_version": "1.2.0",
          "state": {
            "_model_module": "@jupyter-widgets/base",
            "_model_module_version": "1.2.0",
            "_model_name": "LayoutModel",
            "_view_count": null,
            "_view_module": "@jupyter-widgets/base",
            "_view_module_version": "1.2.0",
            "_view_name": "LayoutView",
            "align_content": null,
            "align_items": null,
            "align_self": null,
            "border": null,
            "bottom": null,
            "display": null,
            "flex": null,
            "flex_flow": null,
            "grid_area": null,
            "grid_auto_columns": null,
            "grid_auto_flow": null,
            "grid_auto_rows": null,
            "grid_column": null,
            "grid_gap": null,
            "grid_row": null,
            "grid_template_areas": null,
            "grid_template_columns": null,
            "grid_template_rows": null,
            "height": null,
            "justify_content": null,
            "justify_items": null,
            "left": null,
            "margin": null,
            "max_height": null,
            "max_width": null,
            "min_height": null,
            "min_width": null,
            "object_fit": null,
            "object_position": null,
            "order": null,
            "overflow": null,
            "overflow_x": null,
            "overflow_y": null,
            "padding": null,
            "right": null,
            "top": null,
            "visibility": null,
            "width": null
          }
        },
        "90c0f87e20de4b22bb31af7efb7e2e05": {
          "model_module": "@jupyter-widgets/controls",
          "model_name": "DescriptionStyleModel",
          "model_module_version": "1.5.0",
          "state": {
            "_model_module": "@jupyter-widgets/controls",
            "_model_module_version": "1.5.0",
            "_model_name": "DescriptionStyleModel",
            "_view_count": null,
            "_view_module": "@jupyter-widgets/base",
            "_view_module_version": "1.2.0",
            "_view_name": "StyleView",
            "description_width": ""
          }
        },
        "37cae4ff08b14eea84ad63d9699781d7": {
          "model_module": "@jupyter-widgets/base",
          "model_name": "LayoutModel",
          "model_module_version": "1.2.0",
          "state": {
            "_model_module": "@jupyter-widgets/base",
            "_model_module_version": "1.2.0",
            "_model_name": "LayoutModel",
            "_view_count": null,
            "_view_module": "@jupyter-widgets/base",
            "_view_module_version": "1.2.0",
            "_view_name": "LayoutView",
            "align_content": null,
            "align_items": null,
            "align_self": null,
            "border": null,
            "bottom": null,
            "display": null,
            "flex": null,
            "flex_flow": null,
            "grid_area": null,
            "grid_auto_columns": null,
            "grid_auto_flow": null,
            "grid_auto_rows": null,
            "grid_column": null,
            "grid_gap": null,
            "grid_row": null,
            "grid_template_areas": null,
            "grid_template_columns": null,
            "grid_template_rows": null,
            "height": null,
            "justify_content": null,
            "justify_items": null,
            "left": null,
            "margin": null,
            "max_height": null,
            "max_width": null,
            "min_height": null,
            "min_width": null,
            "object_fit": null,
            "object_position": null,
            "order": null,
            "overflow": null,
            "overflow_x": null,
            "overflow_y": null,
            "padding": null,
            "right": null,
            "top": null,
            "visibility": null,
            "width": null
          }
        },
        "f91fbc7824fa4ddd8336f522ea2713f0": {
          "model_module": "@jupyter-widgets/controls",
          "model_name": "ProgressStyleModel",
          "model_module_version": "1.5.0",
          "state": {
            "_model_module": "@jupyter-widgets/controls",
            "_model_module_version": "1.5.0",
            "_model_name": "ProgressStyleModel",
            "_view_count": null,
            "_view_module": "@jupyter-widgets/base",
            "_view_module_version": "1.2.0",
            "_view_name": "StyleView",
            "bar_color": null,
            "description_width": ""
          }
        },
        "3a3d8d78fc0b4720b4feffda70cb1404": {
          "model_module": "@jupyter-widgets/base",
          "model_name": "LayoutModel",
          "model_module_version": "1.2.0",
          "state": {
            "_model_module": "@jupyter-widgets/base",
            "_model_module_version": "1.2.0",
            "_model_name": "LayoutModel",
            "_view_count": null,
            "_view_module": "@jupyter-widgets/base",
            "_view_module_version": "1.2.0",
            "_view_name": "LayoutView",
            "align_content": null,
            "align_items": null,
            "align_self": null,
            "border": null,
            "bottom": null,
            "display": null,
            "flex": null,
            "flex_flow": null,
            "grid_area": null,
            "grid_auto_columns": null,
            "grid_auto_flow": null,
            "grid_auto_rows": null,
            "grid_column": null,
            "grid_gap": null,
            "grid_row": null,
            "grid_template_areas": null,
            "grid_template_columns": null,
            "grid_template_rows": null,
            "height": null,
            "justify_content": null,
            "justify_items": null,
            "left": null,
            "margin": null,
            "max_height": null,
            "max_width": null,
            "min_height": null,
            "min_width": null,
            "object_fit": null,
            "object_position": null,
            "order": null,
            "overflow": null,
            "overflow_x": null,
            "overflow_y": null,
            "padding": null,
            "right": null,
            "top": null,
            "visibility": null,
            "width": null
          }
        },
        "b1d849b1d0f54edda80b8c8f0f4b1385": {
          "model_module": "@jupyter-widgets/controls",
          "model_name": "DescriptionStyleModel",
          "model_module_version": "1.5.0",
          "state": {
            "_model_module": "@jupyter-widgets/controls",
            "_model_module_version": "1.5.0",
            "_model_name": "DescriptionStyleModel",
            "_view_count": null,
            "_view_module": "@jupyter-widgets/base",
            "_view_module_version": "1.2.0",
            "_view_name": "StyleView",
            "description_width": ""
          }
        },
        "5ead060b49b74cfda1326e82aa4dfce1": {
          "model_module": "@jupyter-widgets/controls",
          "model_name": "HBoxModel",
          "model_module_version": "1.5.0",
          "state": {
            "_dom_classes": [],
            "_model_module": "@jupyter-widgets/controls",
            "_model_module_version": "1.5.0",
            "_model_name": "HBoxModel",
            "_view_count": null,
            "_view_module": "@jupyter-widgets/controls",
            "_view_module_version": "1.5.0",
            "_view_name": "HBoxView",
            "box_style": "",
            "children": [
              "IPY_MODEL_bf023123afdb42a9a91d04e964f9a3b1",
              "IPY_MODEL_29b738246d384067b6d68f43429ac5cb",
              "IPY_MODEL_fbb3b85dfa89485586f00cfa69be6a1d"
            ],
            "layout": "IPY_MODEL_63ba72f3531c4fb99e35962803cdda9f"
          }
        },
        "bf023123afdb42a9a91d04e964f9a3b1": {
          "model_module": "@jupyter-widgets/controls",
          "model_name": "HTMLModel",
          "model_module_version": "1.5.0",
          "state": {
            "_dom_classes": [],
            "_model_module": "@jupyter-widgets/controls",
            "_model_module_version": "1.5.0",
            "_model_name": "HTMLModel",
            "_view_count": null,
            "_view_module": "@jupyter-widgets/controls",
            "_view_module_version": "1.5.0",
            "_view_name": "HTMLView",
            "description": "",
            "description_tooltip": null,
            "layout": "IPY_MODEL_c59ed68ddd964a96994973e52a414b45",
            "placeholder": "​",
            "style": "IPY_MODEL_fa371f4d4d0943808f4132a0791a001c",
            "value": "dataset_infos.json: 100%"
          }
        },
        "29b738246d384067b6d68f43429ac5cb": {
          "model_module": "@jupyter-widgets/controls",
          "model_name": "FloatProgressModel",
          "model_module_version": "1.5.0",
          "state": {
            "_dom_classes": [],
            "_model_module": "@jupyter-widgets/controls",
            "_model_module_version": "1.5.0",
            "_model_name": "FloatProgressModel",
            "_view_count": null,
            "_view_module": "@jupyter-widgets/controls",
            "_view_module_version": "1.5.0",
            "_view_name": "ProgressView",
            "bar_style": "success",
            "description": "",
            "description_tooltip": null,
            "layout": "IPY_MODEL_44c9ac48586d4fd7b0fd38ffc95e6e51",
            "max": 800,
            "min": 0,
            "orientation": "horizontal",
            "style": "IPY_MODEL_2b102c42c4cd4c1c9002d84b14c83f29",
            "value": 800
          }
        },
        "fbb3b85dfa89485586f00cfa69be6a1d": {
          "model_module": "@jupyter-widgets/controls",
          "model_name": "HTMLModel",
          "model_module_version": "1.5.0",
          "state": {
            "_dom_classes": [],
            "_model_module": "@jupyter-widgets/controls",
            "_model_module_version": "1.5.0",
            "_model_name": "HTMLModel",
            "_view_count": null,
            "_view_module": "@jupyter-widgets/controls",
            "_view_module_version": "1.5.0",
            "_view_name": "HTMLView",
            "description": "",
            "description_tooltip": null,
            "layout": "IPY_MODEL_521da4de50a945e68bb0c7f8d6f611b0",
            "placeholder": "​",
            "style": "IPY_MODEL_54fdef17c50a4c8aa3b2889a6a44b10d",
            "value": " 800/800 [00:00&lt;00:00, 53.3kB/s]"
          }
        },
        "63ba72f3531c4fb99e35962803cdda9f": {
          "model_module": "@jupyter-widgets/base",
          "model_name": "LayoutModel",
          "model_module_version": "1.2.0",
          "state": {
            "_model_module": "@jupyter-widgets/base",
            "_model_module_version": "1.2.0",
            "_model_name": "LayoutModel",
            "_view_count": null,
            "_view_module": "@jupyter-widgets/base",
            "_view_module_version": "1.2.0",
            "_view_name": "LayoutView",
            "align_content": null,
            "align_items": null,
            "align_self": null,
            "border": null,
            "bottom": null,
            "display": null,
            "flex": null,
            "flex_flow": null,
            "grid_area": null,
            "grid_auto_columns": null,
            "grid_auto_flow": null,
            "grid_auto_rows": null,
            "grid_column": null,
            "grid_gap": null,
            "grid_row": null,
            "grid_template_areas": null,
            "grid_template_columns": null,
            "grid_template_rows": null,
            "height": null,
            "justify_content": null,
            "justify_items": null,
            "left": null,
            "margin": null,
            "max_height": null,
            "max_width": null,
            "min_height": null,
            "min_width": null,
            "object_fit": null,
            "object_position": null,
            "order": null,
            "overflow": null,
            "overflow_x": null,
            "overflow_y": null,
            "padding": null,
            "right": null,
            "top": null,
            "visibility": null,
            "width": null
          }
        },
        "c59ed68ddd964a96994973e52a414b45": {
          "model_module": "@jupyter-widgets/base",
          "model_name": "LayoutModel",
          "model_module_version": "1.2.0",
          "state": {
            "_model_module": "@jupyter-widgets/base",
            "_model_module_version": "1.2.0",
            "_model_name": "LayoutModel",
            "_view_count": null,
            "_view_module": "@jupyter-widgets/base",
            "_view_module_version": "1.2.0",
            "_view_name": "LayoutView",
            "align_content": null,
            "align_items": null,
            "align_self": null,
            "border": null,
            "bottom": null,
            "display": null,
            "flex": null,
            "flex_flow": null,
            "grid_area": null,
            "grid_auto_columns": null,
            "grid_auto_flow": null,
            "grid_auto_rows": null,
            "grid_column": null,
            "grid_gap": null,
            "grid_row": null,
            "grid_template_areas": null,
            "grid_template_columns": null,
            "grid_template_rows": null,
            "height": null,
            "justify_content": null,
            "justify_items": null,
            "left": null,
            "margin": null,
            "max_height": null,
            "max_width": null,
            "min_height": null,
            "min_width": null,
            "object_fit": null,
            "object_position": null,
            "order": null,
            "overflow": null,
            "overflow_x": null,
            "overflow_y": null,
            "padding": null,
            "right": null,
            "top": null,
            "visibility": null,
            "width": null
          }
        },
        "fa371f4d4d0943808f4132a0791a001c": {
          "model_module": "@jupyter-widgets/controls",
          "model_name": "DescriptionStyleModel",
          "model_module_version": "1.5.0",
          "state": {
            "_model_module": "@jupyter-widgets/controls",
            "_model_module_version": "1.5.0",
            "_model_name": "DescriptionStyleModel",
            "_view_count": null,
            "_view_module": "@jupyter-widgets/base",
            "_view_module_version": "1.2.0",
            "_view_name": "StyleView",
            "description_width": ""
          }
        },
        "44c9ac48586d4fd7b0fd38ffc95e6e51": {
          "model_module": "@jupyter-widgets/base",
          "model_name": "LayoutModel",
          "model_module_version": "1.2.0",
          "state": {
            "_model_module": "@jupyter-widgets/base",
            "_model_module_version": "1.2.0",
            "_model_name": "LayoutModel",
            "_view_count": null,
            "_view_module": "@jupyter-widgets/base",
            "_view_module_version": "1.2.0",
            "_view_name": "LayoutView",
            "align_content": null,
            "align_items": null,
            "align_self": null,
            "border": null,
            "bottom": null,
            "display": null,
            "flex": null,
            "flex_flow": null,
            "grid_area": null,
            "grid_auto_columns": null,
            "grid_auto_flow": null,
            "grid_auto_rows": null,
            "grid_column": null,
            "grid_gap": null,
            "grid_row": null,
            "grid_template_areas": null,
            "grid_template_columns": null,
            "grid_template_rows": null,
            "height": null,
            "justify_content": null,
            "justify_items": null,
            "left": null,
            "margin": null,
            "max_height": null,
            "max_width": null,
            "min_height": null,
            "min_width": null,
            "object_fit": null,
            "object_position": null,
            "order": null,
            "overflow": null,
            "overflow_x": null,
            "overflow_y": null,
            "padding": null,
            "right": null,
            "top": null,
            "visibility": null,
            "width": null
          }
        },
        "2b102c42c4cd4c1c9002d84b14c83f29": {
          "model_module": "@jupyter-widgets/controls",
          "model_name": "ProgressStyleModel",
          "model_module_version": "1.5.0",
          "state": {
            "_model_module": "@jupyter-widgets/controls",
            "_model_module_version": "1.5.0",
            "_model_name": "ProgressStyleModel",
            "_view_count": null,
            "_view_module": "@jupyter-widgets/base",
            "_view_module_version": "1.2.0",
            "_view_name": "StyleView",
            "bar_color": null,
            "description_width": ""
          }
        },
        "521da4de50a945e68bb0c7f8d6f611b0": {
          "model_module": "@jupyter-widgets/base",
          "model_name": "LayoutModel",
          "model_module_version": "1.2.0",
          "state": {
            "_model_module": "@jupyter-widgets/base",
            "_model_module_version": "1.2.0",
            "_model_name": "LayoutModel",
            "_view_count": null,
            "_view_module": "@jupyter-widgets/base",
            "_view_module_version": "1.2.0",
            "_view_name": "LayoutView",
            "align_content": null,
            "align_items": null,
            "align_self": null,
            "border": null,
            "bottom": null,
            "display": null,
            "flex": null,
            "flex_flow": null,
            "grid_area": null,
            "grid_auto_columns": null,
            "grid_auto_flow": null,
            "grid_auto_rows": null,
            "grid_column": null,
            "grid_gap": null,
            "grid_row": null,
            "grid_template_areas": null,
            "grid_template_columns": null,
            "grid_template_rows": null,
            "height": null,
            "justify_content": null,
            "justify_items": null,
            "left": null,
            "margin": null,
            "max_height": null,
            "max_width": null,
            "min_height": null,
            "min_width": null,
            "object_fit": null,
            "object_position": null,
            "order": null,
            "overflow": null,
            "overflow_x": null,
            "overflow_y": null,
            "padding": null,
            "right": null,
            "top": null,
            "visibility": null,
            "width": null
          }
        },
        "54fdef17c50a4c8aa3b2889a6a44b10d": {
          "model_module": "@jupyter-widgets/controls",
          "model_name": "DescriptionStyleModel",
          "model_module_version": "1.5.0",
          "state": {
            "_model_module": "@jupyter-widgets/controls",
            "_model_module_version": "1.5.0",
            "_model_name": "DescriptionStyleModel",
            "_view_count": null,
            "_view_module": "@jupyter-widgets/base",
            "_view_module_version": "1.2.0",
            "_view_name": "StyleView",
            "description_width": ""
          }
        },
        "73d1c51aea7649a59bb1a61eedba77d3": {
          "model_module": "@jupyter-widgets/controls",
          "model_name": "HBoxModel",
          "model_module_version": "1.5.0",
          "state": {
            "_dom_classes": [],
            "_model_module": "@jupyter-widgets/controls",
            "_model_module_version": "1.5.0",
            "_model_name": "HBoxModel",
            "_view_count": null,
            "_view_module": "@jupyter-widgets/controls",
            "_view_module_version": "1.5.0",
            "_view_name": "HBoxView",
            "box_style": "",
            "children": [
              "IPY_MODEL_e6ad86d9de9a4b24be219189b1d21fd4",
              "IPY_MODEL_36780b004d8f41a484b830268c50a519",
              "IPY_MODEL_28cad6cf9a13428184217a6a84014f9a"
            ],
            "layout": "IPY_MODEL_b2fcce6f98d64e3f9e797c5b9ccd73e6"
          }
        },
        "e6ad86d9de9a4b24be219189b1d21fd4": {
          "model_module": "@jupyter-widgets/controls",
          "model_name": "HTMLModel",
          "model_module_version": "1.5.0",
          "state": {
            "_dom_classes": [],
            "_model_module": "@jupyter-widgets/controls",
            "_model_module_version": "1.5.0",
            "_model_name": "HTMLModel",
            "_view_count": null,
            "_view_module": "@jupyter-widgets/controls",
            "_view_module_version": "1.5.0",
            "_view_name": "HTMLView",
            "description": "",
            "description_tooltip": null,
            "layout": "IPY_MODEL_0eca3391645e46b6bc0a8dbd2bc2005f",
            "placeholder": "​",
            "style": "IPY_MODEL_4729e4b033a14b96ac20bd2a3967c452",
            "value": "train-00000-of-00001.parquet: 100%"
          }
        },
        "36780b004d8f41a484b830268c50a519": {
          "model_module": "@jupyter-widgets/controls",
          "model_name": "FloatProgressModel",
          "model_module_version": "1.5.0",
          "state": {
            "_dom_classes": [],
            "_model_module": "@jupyter-widgets/controls",
            "_model_module_version": "1.5.0",
            "_model_name": "FloatProgressModel",
            "_view_count": null,
            "_view_module": "@jupyter-widgets/controls",
            "_view_module_version": "1.5.0",
            "_view_name": "ProgressView",
            "bar_style": "success",
            "description": "",
            "description_tooltip": null,
            "layout": "IPY_MODEL_ec40cd9d63964a048b77d89b175ee3d5",
            "max": 327256,
            "min": 0,
            "orientation": "horizontal",
            "style": "IPY_MODEL_b43a10c407c546f0bae1c0b9219c4904",
            "value": 327256
          }
        },
        "28cad6cf9a13428184217a6a84014f9a": {
          "model_module": "@jupyter-widgets/controls",
          "model_name": "HTMLModel",
          "model_module_version": "1.5.0",
          "state": {
            "_dom_classes": [],
            "_model_module": "@jupyter-widgets/controls",
            "_model_module_version": "1.5.0",
            "_model_name": "HTMLModel",
            "_view_count": null,
            "_view_module": "@jupyter-widgets/controls",
            "_view_module_version": "1.5.0",
            "_view_name": "HTMLView",
            "description": "",
            "description_tooltip": null,
            "layout": "IPY_MODEL_6ef449a999cb41d184f51437e374c46a",
            "placeholder": "​",
            "style": "IPY_MODEL_e13e5b01aad043eeb09f70d9296a13ea",
            "value": " 327k/327k [00:00&lt;00:00, 11.0MB/s]"
          }
        },
        "b2fcce6f98d64e3f9e797c5b9ccd73e6": {
          "model_module": "@jupyter-widgets/base",
          "model_name": "LayoutModel",
          "model_module_version": "1.2.0",
          "state": {
            "_model_module": "@jupyter-widgets/base",
            "_model_module_version": "1.2.0",
            "_model_name": "LayoutModel",
            "_view_count": null,
            "_view_module": "@jupyter-widgets/base",
            "_view_module_version": "1.2.0",
            "_view_name": "LayoutView",
            "align_content": null,
            "align_items": null,
            "align_self": null,
            "border": null,
            "bottom": null,
            "display": null,
            "flex": null,
            "flex_flow": null,
            "grid_area": null,
            "grid_auto_columns": null,
            "grid_auto_flow": null,
            "grid_auto_rows": null,
            "grid_column": null,
            "grid_gap": null,
            "grid_row": null,
            "grid_template_areas": null,
            "grid_template_columns": null,
            "grid_template_rows": null,
            "height": null,
            "justify_content": null,
            "justify_items": null,
            "left": null,
            "margin": null,
            "max_height": null,
            "max_width": null,
            "min_height": null,
            "min_width": null,
            "object_fit": null,
            "object_position": null,
            "order": null,
            "overflow": null,
            "overflow_x": null,
            "overflow_y": null,
            "padding": null,
            "right": null,
            "top": null,
            "visibility": null,
            "width": null
          }
        },
        "0eca3391645e46b6bc0a8dbd2bc2005f": {
          "model_module": "@jupyter-widgets/base",
          "model_name": "LayoutModel",
          "model_module_version": "1.2.0",
          "state": {
            "_model_module": "@jupyter-widgets/base",
            "_model_module_version": "1.2.0",
            "_model_name": "LayoutModel",
            "_view_count": null,
            "_view_module": "@jupyter-widgets/base",
            "_view_module_version": "1.2.0",
            "_view_name": "LayoutView",
            "align_content": null,
            "align_items": null,
            "align_self": null,
            "border": null,
            "bottom": null,
            "display": null,
            "flex": null,
            "flex_flow": null,
            "grid_area": null,
            "grid_auto_columns": null,
            "grid_auto_flow": null,
            "grid_auto_rows": null,
            "grid_column": null,
            "grid_gap": null,
            "grid_row": null,
            "grid_template_areas": null,
            "grid_template_columns": null,
            "grid_template_rows": null,
            "height": null,
            "justify_content": null,
            "justify_items": null,
            "left": null,
            "margin": null,
            "max_height": null,
            "max_width": null,
            "min_height": null,
            "min_width": null,
            "object_fit": null,
            "object_position": null,
            "order": null,
            "overflow": null,
            "overflow_x": null,
            "overflow_y": null,
            "padding": null,
            "right": null,
            "top": null,
            "visibility": null,
            "width": null
          }
        },
        "4729e4b033a14b96ac20bd2a3967c452": {
          "model_module": "@jupyter-widgets/controls",
          "model_name": "DescriptionStyleModel",
          "model_module_version": "1.5.0",
          "state": {
            "_model_module": "@jupyter-widgets/controls",
            "_model_module_version": "1.5.0",
            "_model_name": "DescriptionStyleModel",
            "_view_count": null,
            "_view_module": "@jupyter-widgets/base",
            "_view_module_version": "1.2.0",
            "_view_name": "StyleView",
            "description_width": ""
          }
        },
        "ec40cd9d63964a048b77d89b175ee3d5": {
          "model_module": "@jupyter-widgets/base",
          "model_name": "LayoutModel",
          "model_module_version": "1.2.0",
          "state": {
            "_model_module": "@jupyter-widgets/base",
            "_model_module_version": "1.2.0",
            "_model_name": "LayoutModel",
            "_view_count": null,
            "_view_module": "@jupyter-widgets/base",
            "_view_module_version": "1.2.0",
            "_view_name": "LayoutView",
            "align_content": null,
            "align_items": null,
            "align_self": null,
            "border": null,
            "bottom": null,
            "display": null,
            "flex": null,
            "flex_flow": null,
            "grid_area": null,
            "grid_auto_columns": null,
            "grid_auto_flow": null,
            "grid_auto_rows": null,
            "grid_column": null,
            "grid_gap": null,
            "grid_row": null,
            "grid_template_areas": null,
            "grid_template_columns": null,
            "grid_template_rows": null,
            "height": null,
            "justify_content": null,
            "justify_items": null,
            "left": null,
            "margin": null,
            "max_height": null,
            "max_width": null,
            "min_height": null,
            "min_width": null,
            "object_fit": null,
            "object_position": null,
            "order": null,
            "overflow": null,
            "overflow_x": null,
            "overflow_y": null,
            "padding": null,
            "right": null,
            "top": null,
            "visibility": null,
            "width": null
          }
        },
        "b43a10c407c546f0bae1c0b9219c4904": {
          "model_module": "@jupyter-widgets/controls",
          "model_name": "ProgressStyleModel",
          "model_module_version": "1.5.0",
          "state": {
            "_model_module": "@jupyter-widgets/controls",
            "_model_module_version": "1.5.0",
            "_model_name": "ProgressStyleModel",
            "_view_count": null,
            "_view_module": "@jupyter-widgets/base",
            "_view_module_version": "1.2.0",
            "_view_name": "StyleView",
            "bar_color": null,
            "description_width": ""
          }
        },
        "6ef449a999cb41d184f51437e374c46a": {
          "model_module": "@jupyter-widgets/base",
          "model_name": "LayoutModel",
          "model_module_version": "1.2.0",
          "state": {
            "_model_module": "@jupyter-widgets/base",
            "_model_module_version": "1.2.0",
            "_model_name": "LayoutModel",
            "_view_count": null,
            "_view_module": "@jupyter-widgets/base",
            "_view_module_version": "1.2.0",
            "_view_name": "LayoutView",
            "align_content": null,
            "align_items": null,
            "align_self": null,
            "border": null,
            "bottom": null,
            "display": null,
            "flex": null,
            "flex_flow": null,
            "grid_area": null,
            "grid_auto_columns": null,
            "grid_auto_flow": null,
            "grid_auto_rows": null,
            "grid_column": null,
            "grid_gap": null,
            "grid_row": null,
            "grid_template_areas": null,
            "grid_template_columns": null,
            "grid_template_rows": null,
            "height": null,
            "justify_content": null,
            "justify_items": null,
            "left": null,
            "margin": null,
            "max_height": null,
            "max_width": null,
            "min_height": null,
            "min_width": null,
            "object_fit": null,
            "object_position": null,
            "order": null,
            "overflow": null,
            "overflow_x": null,
            "overflow_y": null,
            "padding": null,
            "right": null,
            "top": null,
            "visibility": null,
            "width": null
          }
        },
        "e13e5b01aad043eeb09f70d9296a13ea": {
          "model_module": "@jupyter-widgets/controls",
          "model_name": "DescriptionStyleModel",
          "model_module_version": "1.5.0",
          "state": {
            "_model_module": "@jupyter-widgets/controls",
            "_model_module_version": "1.5.0",
            "_model_name": "DescriptionStyleModel",
            "_view_count": null,
            "_view_module": "@jupyter-widgets/base",
            "_view_module_version": "1.2.0",
            "_view_name": "StyleView",
            "description_width": ""
          }
        },
        "cb023582dbe641afa8e0010eeec5ca34": {
          "model_module": "@jupyter-widgets/controls",
          "model_name": "HBoxModel",
          "model_module_version": "1.5.0",
          "state": {
            "_dom_classes": [],
            "_model_module": "@jupyter-widgets/controls",
            "_model_module_version": "1.5.0",
            "_model_name": "HBoxModel",
            "_view_count": null,
            "_view_module": "@jupyter-widgets/controls",
            "_view_module_version": "1.5.0",
            "_view_name": "HBoxView",
            "box_style": "",
            "children": [
              "IPY_MODEL_5ce908930b9a4538bc2f98fefb501e86",
              "IPY_MODEL_9a0523cf02dd4620b1cd6e52a86d6ae0",
              "IPY_MODEL_bef49b311bd940bba1541f9be6621589"
            ],
            "layout": "IPY_MODEL_5b23727a57d245b0b1fc796ea78f76dc"
          }
        },
        "5ce908930b9a4538bc2f98fefb501e86": {
          "model_module": "@jupyter-widgets/controls",
          "model_name": "HTMLModel",
          "model_module_version": "1.5.0",
          "state": {
            "_dom_classes": [],
            "_model_module": "@jupyter-widgets/controls",
            "_model_module_version": "1.5.0",
            "_model_name": "HTMLModel",
            "_view_count": null,
            "_view_module": "@jupyter-widgets/controls",
            "_view_module_version": "1.5.0",
            "_view_name": "HTMLView",
            "description": "",
            "description_tooltip": null,
            "layout": "IPY_MODEL_f176c201dd7c405ba6708da0c8260ccd",
            "placeholder": "​",
            "style": "IPY_MODEL_6deecd5b539e478e80e7ff212283b99a",
            "value": "test-00000-of-00001.parquet: 100%"
          }
        },
        "9a0523cf02dd4620b1cd6e52a86d6ae0": {
          "model_module": "@jupyter-widgets/controls",
          "model_name": "FloatProgressModel",
          "model_module_version": "1.5.0",
          "state": {
            "_dom_classes": [],
            "_model_module": "@jupyter-widgets/controls",
            "_model_module_version": "1.5.0",
            "_model_name": "FloatProgressModel",
            "_view_count": null,
            "_view_module": "@jupyter-widgets/controls",
            "_view_module_version": "1.5.0",
            "_view_name": "ProgressView",
            "bar_style": "success",
            "description": "",
            "description_tooltip": null,
            "layout": "IPY_MODEL_6b0ab622d55048ccb9e8468233c2e9ef",
            "max": 80908,
            "min": 0,
            "orientation": "horizontal",
            "style": "IPY_MODEL_2f7fa9a34f9045a68feb0d69727bddbb",
            "value": 80908
          }
        },
        "bef49b311bd940bba1541f9be6621589": {
          "model_module": "@jupyter-widgets/controls",
          "model_name": "HTMLModel",
          "model_module_version": "1.5.0",
          "state": {
            "_dom_classes": [],
            "_model_module": "@jupyter-widgets/controls",
            "_model_module_version": "1.5.0",
            "_model_name": "HTMLModel",
            "_view_count": null,
            "_view_module": "@jupyter-widgets/controls",
            "_view_module_version": "1.5.0",
            "_view_name": "HTMLView",
            "description": "",
            "description_tooltip": null,
            "layout": "IPY_MODEL_80626b4be4dd473b870f5d8f30827364",
            "placeholder": "​",
            "style": "IPY_MODEL_4722c370b27c4ff5ac502d3019b4a782",
            "value": " 80.9k/80.9k [00:00&lt;00:00, 5.33MB/s]"
          }
        },
        "5b23727a57d245b0b1fc796ea78f76dc": {
          "model_module": "@jupyter-widgets/base",
          "model_name": "LayoutModel",
          "model_module_version": "1.2.0",
          "state": {
            "_model_module": "@jupyter-widgets/base",
            "_model_module_version": "1.2.0",
            "_model_name": "LayoutModel",
            "_view_count": null,
            "_view_module": "@jupyter-widgets/base",
            "_view_module_version": "1.2.0",
            "_view_name": "LayoutView",
            "align_content": null,
            "align_items": null,
            "align_self": null,
            "border": null,
            "bottom": null,
            "display": null,
            "flex": null,
            "flex_flow": null,
            "grid_area": null,
            "grid_auto_columns": null,
            "grid_auto_flow": null,
            "grid_auto_rows": null,
            "grid_column": null,
            "grid_gap": null,
            "grid_row": null,
            "grid_template_areas": null,
            "grid_template_columns": null,
            "grid_template_rows": null,
            "height": null,
            "justify_content": null,
            "justify_items": null,
            "left": null,
            "margin": null,
            "max_height": null,
            "max_width": null,
            "min_height": null,
            "min_width": null,
            "object_fit": null,
            "object_position": null,
            "order": null,
            "overflow": null,
            "overflow_x": null,
            "overflow_y": null,
            "padding": null,
            "right": null,
            "top": null,
            "visibility": null,
            "width": null
          }
        },
        "f176c201dd7c405ba6708da0c8260ccd": {
          "model_module": "@jupyter-widgets/base",
          "model_name": "LayoutModel",
          "model_module_version": "1.2.0",
          "state": {
            "_model_module": "@jupyter-widgets/base",
            "_model_module_version": "1.2.0",
            "_model_name": "LayoutModel",
            "_view_count": null,
            "_view_module": "@jupyter-widgets/base",
            "_view_module_version": "1.2.0",
            "_view_name": "LayoutView",
            "align_content": null,
            "align_items": null,
            "align_self": null,
            "border": null,
            "bottom": null,
            "display": null,
            "flex": null,
            "flex_flow": null,
            "grid_area": null,
            "grid_auto_columns": null,
            "grid_auto_flow": null,
            "grid_auto_rows": null,
            "grid_column": null,
            "grid_gap": null,
            "grid_row": null,
            "grid_template_areas": null,
            "grid_template_columns": null,
            "grid_template_rows": null,
            "height": null,
            "justify_content": null,
            "justify_items": null,
            "left": null,
            "margin": null,
            "max_height": null,
            "max_width": null,
            "min_height": null,
            "min_width": null,
            "object_fit": null,
            "object_position": null,
            "order": null,
            "overflow": null,
            "overflow_x": null,
            "overflow_y": null,
            "padding": null,
            "right": null,
            "top": null,
            "visibility": null,
            "width": null
          }
        },
        "6deecd5b539e478e80e7ff212283b99a": {
          "model_module": "@jupyter-widgets/controls",
          "model_name": "DescriptionStyleModel",
          "model_module_version": "1.5.0",
          "state": {
            "_model_module": "@jupyter-widgets/controls",
            "_model_module_version": "1.5.0",
            "_model_name": "DescriptionStyleModel",
            "_view_count": null,
            "_view_module": "@jupyter-widgets/base",
            "_view_module_version": "1.2.0",
            "_view_name": "StyleView",
            "description_width": ""
          }
        },
        "6b0ab622d55048ccb9e8468233c2e9ef": {
          "model_module": "@jupyter-widgets/base",
          "model_name": "LayoutModel",
          "model_module_version": "1.2.0",
          "state": {
            "_model_module": "@jupyter-widgets/base",
            "_model_module_version": "1.2.0",
            "_model_name": "LayoutModel",
            "_view_count": null,
            "_view_module": "@jupyter-widgets/base",
            "_view_module_version": "1.2.0",
            "_view_name": "LayoutView",
            "align_content": null,
            "align_items": null,
            "align_self": null,
            "border": null,
            "bottom": null,
            "display": null,
            "flex": null,
            "flex_flow": null,
            "grid_area": null,
            "grid_auto_columns": null,
            "grid_auto_flow": null,
            "grid_auto_rows": null,
            "grid_column": null,
            "grid_gap": null,
            "grid_row": null,
            "grid_template_areas": null,
            "grid_template_columns": null,
            "grid_template_rows": null,
            "height": null,
            "justify_content": null,
            "justify_items": null,
            "left": null,
            "margin": null,
            "max_height": null,
            "max_width": null,
            "min_height": null,
            "min_width": null,
            "object_fit": null,
            "object_position": null,
            "order": null,
            "overflow": null,
            "overflow_x": null,
            "overflow_y": null,
            "padding": null,
            "right": null,
            "top": null,
            "visibility": null,
            "width": null
          }
        },
        "2f7fa9a34f9045a68feb0d69727bddbb": {
          "model_module": "@jupyter-widgets/controls",
          "model_name": "ProgressStyleModel",
          "model_module_version": "1.5.0",
          "state": {
            "_model_module": "@jupyter-widgets/controls",
            "_model_module_version": "1.5.0",
            "_model_name": "ProgressStyleModel",
            "_view_count": null,
            "_view_module": "@jupyter-widgets/base",
            "_view_module_version": "1.2.0",
            "_view_name": "StyleView",
            "bar_color": null,
            "description_width": ""
          }
        },
        "80626b4be4dd473b870f5d8f30827364": {
          "model_module": "@jupyter-widgets/base",
          "model_name": "LayoutModel",
          "model_module_version": "1.2.0",
          "state": {
            "_model_module": "@jupyter-widgets/base",
            "_model_module_version": "1.2.0",
            "_model_name": "LayoutModel",
            "_view_count": null,
            "_view_module": "@jupyter-widgets/base",
            "_view_module_version": "1.2.0",
            "_view_name": "LayoutView",
            "align_content": null,
            "align_items": null,
            "align_self": null,
            "border": null,
            "bottom": null,
            "display": null,
            "flex": null,
            "flex_flow": null,
            "grid_area": null,
            "grid_auto_columns": null,
            "grid_auto_flow": null,
            "grid_auto_rows": null,
            "grid_column": null,
            "grid_gap": null,
            "grid_row": null,
            "grid_template_areas": null,
            "grid_template_columns": null,
            "grid_template_rows": null,
            "height": null,
            "justify_content": null,
            "justify_items": null,
            "left": null,
            "margin": null,
            "max_height": null,
            "max_width": null,
            "min_height": null,
            "min_width": null,
            "object_fit": null,
            "object_position": null,
            "order": null,
            "overflow": null,
            "overflow_x": null,
            "overflow_y": null,
            "padding": null,
            "right": null,
            "top": null,
            "visibility": null,
            "width": null
          }
        },
        "4722c370b27c4ff5ac502d3019b4a782": {
          "model_module": "@jupyter-widgets/controls",
          "model_name": "DescriptionStyleModel",
          "model_module_version": "1.5.0",
          "state": {
            "_model_module": "@jupyter-widgets/controls",
            "_model_module_version": "1.5.0",
            "_model_name": "DescriptionStyleModel",
            "_view_count": null,
            "_view_module": "@jupyter-widgets/base",
            "_view_module_version": "1.2.0",
            "_view_name": "StyleView",
            "description_width": ""
          }
        },
        "63309791664548d58d2e141966969864": {
          "model_module": "@jupyter-widgets/controls",
          "model_name": "HBoxModel",
          "model_module_version": "1.5.0",
          "state": {
            "_dom_classes": [],
            "_model_module": "@jupyter-widgets/controls",
            "_model_module_version": "1.5.0",
            "_model_name": "HBoxModel",
            "_view_count": null,
            "_view_module": "@jupyter-widgets/controls",
            "_view_module_version": "1.5.0",
            "_view_name": "HBoxView",
            "box_style": "",
            "children": [
              "IPY_MODEL_d7dcc5b236ca484fada637af68f8d169",
              "IPY_MODEL_be45937b68d94127bb602cf6def9b4ba",
              "IPY_MODEL_4ef8eb4b81ce4e3f9bee6943575a3922"
            ],
            "layout": "IPY_MODEL_66dfbfe29712434ba9881ef4cfa1cdd1"
          }
        },
        "d7dcc5b236ca484fada637af68f8d169": {
          "model_module": "@jupyter-widgets/controls",
          "model_name": "HTMLModel",
          "model_module_version": "1.5.0",
          "state": {
            "_dom_classes": [],
            "_model_module": "@jupyter-widgets/controls",
            "_model_module_version": "1.5.0",
            "_model_name": "HTMLModel",
            "_view_count": null,
            "_view_module": "@jupyter-widgets/controls",
            "_view_module_version": "1.5.0",
            "_view_name": "HTMLView",
            "description": "",
            "description_tooltip": null,
            "layout": "IPY_MODEL_29bf0941344a44c7b1a2acfd8d81fac6",
            "placeholder": "​",
            "style": "IPY_MODEL_3a7f85790cad434abddd514e9448a2f5",
            "value": "Generating train split: 100%"
          }
        },
        "be45937b68d94127bb602cf6def9b4ba": {
          "model_module": "@jupyter-widgets/controls",
          "model_name": "FloatProgressModel",
          "model_module_version": "1.5.0",
          "state": {
            "_dom_classes": [],
            "_model_module": "@jupyter-widgets/controls",
            "_model_module_version": "1.5.0",
            "_model_name": "FloatProgressModel",
            "_view_count": null,
            "_view_module": "@jupyter-widgets/controls",
            "_view_module_version": "1.5.0",
            "_view_name": "ProgressView",
            "bar_style": "success",
            "description": "",
            "description_tooltip": null,
            "layout": "IPY_MODEL_4503353a38ce4f9e9b0625e20f9e214d",
            "max": 3877,
            "min": 0,
            "orientation": "horizontal",
            "style": "IPY_MODEL_9746fe0f748546088d62eefc41d6d119",
            "value": 3877
          }
        },
        "4ef8eb4b81ce4e3f9bee6943575a3922": {
          "model_module": "@jupyter-widgets/controls",
          "model_name": "HTMLModel",
          "model_module_version": "1.5.0",
          "state": {
            "_dom_classes": [],
            "_model_module": "@jupyter-widgets/controls",
            "_model_module_version": "1.5.0",
            "_model_name": "HTMLModel",
            "_view_count": null,
            "_view_module": "@jupyter-widgets/controls",
            "_view_module_version": "1.5.0",
            "_view_name": "HTMLView",
            "description": "",
            "description_tooltip": null,
            "layout": "IPY_MODEL_eb3cc5db87fa475593795a1719e5898b",
            "placeholder": "​",
            "style": "IPY_MODEL_a4a9f5b7670c4eca91b74072e5d45707",
            "value": " 3877/3877 [00:00&lt;00:00, 57753.54 examples/s]"
          }
        },
        "66dfbfe29712434ba9881ef4cfa1cdd1": {
          "model_module": "@jupyter-widgets/base",
          "model_name": "LayoutModel",
          "model_module_version": "1.2.0",
          "state": {
            "_model_module": "@jupyter-widgets/base",
            "_model_module_version": "1.2.0",
            "_model_name": "LayoutModel",
            "_view_count": null,
            "_view_module": "@jupyter-widgets/base",
            "_view_module_version": "1.2.0",
            "_view_name": "LayoutView",
            "align_content": null,
            "align_items": null,
            "align_self": null,
            "border": null,
            "bottom": null,
            "display": null,
            "flex": null,
            "flex_flow": null,
            "grid_area": null,
            "grid_auto_columns": null,
            "grid_auto_flow": null,
            "grid_auto_rows": null,
            "grid_column": null,
            "grid_gap": null,
            "grid_row": null,
            "grid_template_areas": null,
            "grid_template_columns": null,
            "grid_template_rows": null,
            "height": null,
            "justify_content": null,
            "justify_items": null,
            "left": null,
            "margin": null,
            "max_height": null,
            "max_width": null,
            "min_height": null,
            "min_width": null,
            "object_fit": null,
            "object_position": null,
            "order": null,
            "overflow": null,
            "overflow_x": null,
            "overflow_y": null,
            "padding": null,
            "right": null,
            "top": null,
            "visibility": null,
            "width": null
          }
        },
        "29bf0941344a44c7b1a2acfd8d81fac6": {
          "model_module": "@jupyter-widgets/base",
          "model_name": "LayoutModel",
          "model_module_version": "1.2.0",
          "state": {
            "_model_module": "@jupyter-widgets/base",
            "_model_module_version": "1.2.0",
            "_model_name": "LayoutModel",
            "_view_count": null,
            "_view_module": "@jupyter-widgets/base",
            "_view_module_version": "1.2.0",
            "_view_name": "LayoutView",
            "align_content": null,
            "align_items": null,
            "align_self": null,
            "border": null,
            "bottom": null,
            "display": null,
            "flex": null,
            "flex_flow": null,
            "grid_area": null,
            "grid_auto_columns": null,
            "grid_auto_flow": null,
            "grid_auto_rows": null,
            "grid_column": null,
            "grid_gap": null,
            "grid_row": null,
            "grid_template_areas": null,
            "grid_template_columns": null,
            "grid_template_rows": null,
            "height": null,
            "justify_content": null,
            "justify_items": null,
            "left": null,
            "margin": null,
            "max_height": null,
            "max_width": null,
            "min_height": null,
            "min_width": null,
            "object_fit": null,
            "object_position": null,
            "order": null,
            "overflow": null,
            "overflow_x": null,
            "overflow_y": null,
            "padding": null,
            "right": null,
            "top": null,
            "visibility": null,
            "width": null
          }
        },
        "3a7f85790cad434abddd514e9448a2f5": {
          "model_module": "@jupyter-widgets/controls",
          "model_name": "DescriptionStyleModel",
          "model_module_version": "1.5.0",
          "state": {
            "_model_module": "@jupyter-widgets/controls",
            "_model_module_version": "1.5.0",
            "_model_name": "DescriptionStyleModel",
            "_view_count": null,
            "_view_module": "@jupyter-widgets/base",
            "_view_module_version": "1.2.0",
            "_view_name": "StyleView",
            "description_width": ""
          }
        },
        "4503353a38ce4f9e9b0625e20f9e214d": {
          "model_module": "@jupyter-widgets/base",
          "model_name": "LayoutModel",
          "model_module_version": "1.2.0",
          "state": {
            "_model_module": "@jupyter-widgets/base",
            "_model_module_version": "1.2.0",
            "_model_name": "LayoutModel",
            "_view_count": null,
            "_view_module": "@jupyter-widgets/base",
            "_view_module_version": "1.2.0",
            "_view_name": "LayoutView",
            "align_content": null,
            "align_items": null,
            "align_self": null,
            "border": null,
            "bottom": null,
            "display": null,
            "flex": null,
            "flex_flow": null,
            "grid_area": null,
            "grid_auto_columns": null,
            "grid_auto_flow": null,
            "grid_auto_rows": null,
            "grid_column": null,
            "grid_gap": null,
            "grid_row": null,
            "grid_template_areas": null,
            "grid_template_columns": null,
            "grid_template_rows": null,
            "height": null,
            "justify_content": null,
            "justify_items": null,
            "left": null,
            "margin": null,
            "max_height": null,
            "max_width": null,
            "min_height": null,
            "min_width": null,
            "object_fit": null,
            "object_position": null,
            "order": null,
            "overflow": null,
            "overflow_x": null,
            "overflow_y": null,
            "padding": null,
            "right": null,
            "top": null,
            "visibility": null,
            "width": null
          }
        },
        "9746fe0f748546088d62eefc41d6d119": {
          "model_module": "@jupyter-widgets/controls",
          "model_name": "ProgressStyleModel",
          "model_module_version": "1.5.0",
          "state": {
            "_model_module": "@jupyter-widgets/controls",
            "_model_module_version": "1.5.0",
            "_model_name": "ProgressStyleModel",
            "_view_count": null,
            "_view_module": "@jupyter-widgets/base",
            "_view_module_version": "1.2.0",
            "_view_name": "StyleView",
            "bar_color": null,
            "description_width": ""
          }
        },
        "eb3cc5db87fa475593795a1719e5898b": {
          "model_module": "@jupyter-widgets/base",
          "model_name": "LayoutModel",
          "model_module_version": "1.2.0",
          "state": {
            "_model_module": "@jupyter-widgets/base",
            "_model_module_version": "1.2.0",
            "_model_name": "LayoutModel",
            "_view_count": null,
            "_view_module": "@jupyter-widgets/base",
            "_view_module_version": "1.2.0",
            "_view_name": "LayoutView",
            "align_content": null,
            "align_items": null,
            "align_self": null,
            "border": null,
            "bottom": null,
            "display": null,
            "flex": null,
            "flex_flow": null,
            "grid_area": null,
            "grid_auto_columns": null,
            "grid_auto_flow": null,
            "grid_auto_rows": null,
            "grid_column": null,
            "grid_gap": null,
            "grid_row": null,
            "grid_template_areas": null,
            "grid_template_columns": null,
            "grid_template_rows": null,
            "height": null,
            "justify_content": null,
            "justify_items": null,
            "left": null,
            "margin": null,
            "max_height": null,
            "max_width": null,
            "min_height": null,
            "min_width": null,
            "object_fit": null,
            "object_position": null,
            "order": null,
            "overflow": null,
            "overflow_x": null,
            "overflow_y": null,
            "padding": null,
            "right": null,
            "top": null,
            "visibility": null,
            "width": null
          }
        },
        "a4a9f5b7670c4eca91b74072e5d45707": {
          "model_module": "@jupyter-widgets/controls",
          "model_name": "DescriptionStyleModel",
          "model_module_version": "1.5.0",
          "state": {
            "_model_module": "@jupyter-widgets/controls",
            "_model_module_version": "1.5.0",
            "_model_name": "DescriptionStyleModel",
            "_view_count": null,
            "_view_module": "@jupyter-widgets/base",
            "_view_module_version": "1.2.0",
            "_view_name": "StyleView",
            "description_width": ""
          }
        },
        "1451cef5d97f46c09d1a5cdda9a9abd9": {
          "model_module": "@jupyter-widgets/controls",
          "model_name": "HBoxModel",
          "model_module_version": "1.5.0",
          "state": {
            "_dom_classes": [],
            "_model_module": "@jupyter-widgets/controls",
            "_model_module_version": "1.5.0",
            "_model_name": "HBoxModel",
            "_view_count": null,
            "_view_module": "@jupyter-widgets/controls",
            "_view_module_version": "1.5.0",
            "_view_name": "HBoxView",
            "box_style": "",
            "children": [
              "IPY_MODEL_23576ca21f61471a8b408dce9796800b",
              "IPY_MODEL_cf86cfcebd9d4eba8fee52552bc4f379",
              "IPY_MODEL_cf707d39946b4e99b3a9d20e9ee3e36e"
            ],
            "layout": "IPY_MODEL_edb4fc25e5454ffbaa55e8e6a8e54325"
          }
        },
        "23576ca21f61471a8b408dce9796800b": {
          "model_module": "@jupyter-widgets/controls",
          "model_name": "HTMLModel",
          "model_module_version": "1.5.0",
          "state": {
            "_dom_classes": [],
            "_model_module": "@jupyter-widgets/controls",
            "_model_module_version": "1.5.0",
            "_model_name": "HTMLModel",
            "_view_count": null,
            "_view_module": "@jupyter-widgets/controls",
            "_view_module_version": "1.5.0",
            "_view_name": "HTMLView",
            "description": "",
            "description_tooltip": null,
            "layout": "IPY_MODEL_9c88fbba5e1e4d3dab93188f7e320b65",
            "placeholder": "​",
            "style": "IPY_MODEL_8a7d3cd367d940a18d845bce63958958",
            "value": "Generating test split: 100%"
          }
        },
        "cf86cfcebd9d4eba8fee52552bc4f379": {
          "model_module": "@jupyter-widgets/controls",
          "model_name": "FloatProgressModel",
          "model_module_version": "1.5.0",
          "state": {
            "_dom_classes": [],
            "_model_module": "@jupyter-widgets/controls",
            "_model_module_version": "1.5.0",
            "_model_name": "FloatProgressModel",
            "_view_count": null,
            "_view_module": "@jupyter-widgets/controls",
            "_view_module_version": "1.5.0",
            "_view_name": "ProgressView",
            "bar_style": "success",
            "description": "",
            "description_tooltip": null,
            "layout": "IPY_MODEL_a7b665001f624cc480f2a83f16784da6",
            "max": 969,
            "min": 0,
            "orientation": "horizontal",
            "style": "IPY_MODEL_aad68f2308ed4d7e871d8e7035383a4e",
            "value": 969
          }
        },
        "cf707d39946b4e99b3a9d20e9ee3e36e": {
          "model_module": "@jupyter-widgets/controls",
          "model_name": "HTMLModel",
          "model_module_version": "1.5.0",
          "state": {
            "_dom_classes": [],
            "_model_module": "@jupyter-widgets/controls",
            "_model_module_version": "1.5.0",
            "_model_name": "HTMLModel",
            "_view_count": null,
            "_view_module": "@jupyter-widgets/controls",
            "_view_module_version": "1.5.0",
            "_view_name": "HTMLView",
            "description": "",
            "description_tooltip": null,
            "layout": "IPY_MODEL_acd412bbf3734633b0d1ac89725fb448",
            "placeholder": "​",
            "style": "IPY_MODEL_4f8df4585d2b47018da056eed78e3a02",
            "value": " 969/969 [00:00&lt;00:00, 34948.03 examples/s]"
          }
        },
        "edb4fc25e5454ffbaa55e8e6a8e54325": {
          "model_module": "@jupyter-widgets/base",
          "model_name": "LayoutModel",
          "model_module_version": "1.2.0",
          "state": {
            "_model_module": "@jupyter-widgets/base",
            "_model_module_version": "1.2.0",
            "_model_name": "LayoutModel",
            "_view_count": null,
            "_view_module": "@jupyter-widgets/base",
            "_view_module_version": "1.2.0",
            "_view_name": "LayoutView",
            "align_content": null,
            "align_items": null,
            "align_self": null,
            "border": null,
            "bottom": null,
            "display": null,
            "flex": null,
            "flex_flow": null,
            "grid_area": null,
            "grid_auto_columns": null,
            "grid_auto_flow": null,
            "grid_auto_rows": null,
            "grid_column": null,
            "grid_gap": null,
            "grid_row": null,
            "grid_template_areas": null,
            "grid_template_columns": null,
            "grid_template_rows": null,
            "height": null,
            "justify_content": null,
            "justify_items": null,
            "left": null,
            "margin": null,
            "max_height": null,
            "max_width": null,
            "min_height": null,
            "min_width": null,
            "object_fit": null,
            "object_position": null,
            "order": null,
            "overflow": null,
            "overflow_x": null,
            "overflow_y": null,
            "padding": null,
            "right": null,
            "top": null,
            "visibility": null,
            "width": null
          }
        },
        "9c88fbba5e1e4d3dab93188f7e320b65": {
          "model_module": "@jupyter-widgets/base",
          "model_name": "LayoutModel",
          "model_module_version": "1.2.0",
          "state": {
            "_model_module": "@jupyter-widgets/base",
            "_model_module_version": "1.2.0",
            "_model_name": "LayoutModel",
            "_view_count": null,
            "_view_module": "@jupyter-widgets/base",
            "_view_module_version": "1.2.0",
            "_view_name": "LayoutView",
            "align_content": null,
            "align_items": null,
            "align_self": null,
            "border": null,
            "bottom": null,
            "display": null,
            "flex": null,
            "flex_flow": null,
            "grid_area": null,
            "grid_auto_columns": null,
            "grid_auto_flow": null,
            "grid_auto_rows": null,
            "grid_column": null,
            "grid_gap": null,
            "grid_row": null,
            "grid_template_areas": null,
            "grid_template_columns": null,
            "grid_template_rows": null,
            "height": null,
            "justify_content": null,
            "justify_items": null,
            "left": null,
            "margin": null,
            "max_height": null,
            "max_width": null,
            "min_height": null,
            "min_width": null,
            "object_fit": null,
            "object_position": null,
            "order": null,
            "overflow": null,
            "overflow_x": null,
            "overflow_y": null,
            "padding": null,
            "right": null,
            "top": null,
            "visibility": null,
            "width": null
          }
        },
        "8a7d3cd367d940a18d845bce63958958": {
          "model_module": "@jupyter-widgets/controls",
          "model_name": "DescriptionStyleModel",
          "model_module_version": "1.5.0",
          "state": {
            "_model_module": "@jupyter-widgets/controls",
            "_model_module_version": "1.5.0",
            "_model_name": "DescriptionStyleModel",
            "_view_count": null,
            "_view_module": "@jupyter-widgets/base",
            "_view_module_version": "1.2.0",
            "_view_name": "StyleView",
            "description_width": ""
          }
        },
        "a7b665001f624cc480f2a83f16784da6": {
          "model_module": "@jupyter-widgets/base",
          "model_name": "LayoutModel",
          "model_module_version": "1.2.0",
          "state": {
            "_model_module": "@jupyter-widgets/base",
            "_model_module_version": "1.2.0",
            "_model_name": "LayoutModel",
            "_view_count": null,
            "_view_module": "@jupyter-widgets/base",
            "_view_module_version": "1.2.0",
            "_view_name": "LayoutView",
            "align_content": null,
            "align_items": null,
            "align_self": null,
            "border": null,
            "bottom": null,
            "display": null,
            "flex": null,
            "flex_flow": null,
            "grid_area": null,
            "grid_auto_columns": null,
            "grid_auto_flow": null,
            "grid_auto_rows": null,
            "grid_column": null,
            "grid_gap": null,
            "grid_row": null,
            "grid_template_areas": null,
            "grid_template_columns": null,
            "grid_template_rows": null,
            "height": null,
            "justify_content": null,
            "justify_items": null,
            "left": null,
            "margin": null,
            "max_height": null,
            "max_width": null,
            "min_height": null,
            "min_width": null,
            "object_fit": null,
            "object_position": null,
            "order": null,
            "overflow": null,
            "overflow_x": null,
            "overflow_y": null,
            "padding": null,
            "right": null,
            "top": null,
            "visibility": null,
            "width": null
          }
        },
        "aad68f2308ed4d7e871d8e7035383a4e": {
          "model_module": "@jupyter-widgets/controls",
          "model_name": "ProgressStyleModel",
          "model_module_version": "1.5.0",
          "state": {
            "_model_module": "@jupyter-widgets/controls",
            "_model_module_version": "1.5.0",
            "_model_name": "ProgressStyleModel",
            "_view_count": null,
            "_view_module": "@jupyter-widgets/base",
            "_view_module_version": "1.2.0",
            "_view_name": "StyleView",
            "bar_color": null,
            "description_width": ""
          }
        },
        "acd412bbf3734633b0d1ac89725fb448": {
          "model_module": "@jupyter-widgets/base",
          "model_name": "LayoutModel",
          "model_module_version": "1.2.0",
          "state": {
            "_model_module": "@jupyter-widgets/base",
            "_model_module_version": "1.2.0",
            "_model_name": "LayoutModel",
            "_view_count": null,
            "_view_module": "@jupyter-widgets/base",
            "_view_module_version": "1.2.0",
            "_view_name": "LayoutView",
            "align_content": null,
            "align_items": null,
            "align_self": null,
            "border": null,
            "bottom": null,
            "display": null,
            "flex": null,
            "flex_flow": null,
            "grid_area": null,
            "grid_auto_columns": null,
            "grid_auto_flow": null,
            "grid_auto_rows": null,
            "grid_column": null,
            "grid_gap": null,
            "grid_row": null,
            "grid_template_areas": null,
            "grid_template_columns": null,
            "grid_template_rows": null,
            "height": null,
            "justify_content": null,
            "justify_items": null,
            "left": null,
            "margin": null,
            "max_height": null,
            "max_width": null,
            "min_height": null,
            "min_width": null,
            "object_fit": null,
            "object_position": null,
            "order": null,
            "overflow": null,
            "overflow_x": null,
            "overflow_y": null,
            "padding": null,
            "right": null,
            "top": null,
            "visibility": null,
            "width": null
          }
        },
        "4f8df4585d2b47018da056eed78e3a02": {
          "model_module": "@jupyter-widgets/controls",
          "model_name": "DescriptionStyleModel",
          "model_module_version": "1.5.0",
          "state": {
            "_model_module": "@jupyter-widgets/controls",
            "_model_module_version": "1.5.0",
            "_model_name": "DescriptionStyleModel",
            "_view_count": null,
            "_view_module": "@jupyter-widgets/base",
            "_view_module_version": "1.2.0",
            "_view_name": "StyleView",
            "description_width": ""
          }
        },
        "d3a2c032ad7442e7a146b44a2d39d420": {
          "model_module": "@jupyter-widgets/controls",
          "model_name": "HBoxModel",
          "model_module_version": "1.5.0",
          "state": {
            "_dom_classes": [],
            "_model_module": "@jupyter-widgets/controls",
            "_model_module_version": "1.5.0",
            "_model_name": "HBoxModel",
            "_view_count": null,
            "_view_module": "@jupyter-widgets/controls",
            "_view_module_version": "1.5.0",
            "_view_name": "HBoxView",
            "box_style": "",
            "children": [
              "IPY_MODEL_d811247e42c84c3d892be8e7a51d5523",
              "IPY_MODEL_0693562f4d2a4209a41f3df2091e4b11",
              "IPY_MODEL_37cdf86b8b044ed3852993c2606bfb48"
            ],
            "layout": "IPY_MODEL_6ae1aaa478ee4b0a8a83d2256f7c0d5e"
          }
        },
        "d811247e42c84c3d892be8e7a51d5523": {
          "model_module": "@jupyter-widgets/controls",
          "model_name": "HTMLModel",
          "model_module_version": "1.5.0",
          "state": {
            "_dom_classes": [],
            "_model_module": "@jupyter-widgets/controls",
            "_model_module_version": "1.5.0",
            "_model_name": "HTMLModel",
            "_view_count": null,
            "_view_module": "@jupyter-widgets/controls",
            "_view_module_version": "1.5.0",
            "_view_name": "HTMLView",
            "description": "",
            "description_tooltip": null,
            "layout": "IPY_MODEL_dcad5488b68c4e8eadd7ad9fe61c08c2",
            "placeholder": "​",
            "style": "IPY_MODEL_adb205d98d90462c8299869f68f23682",
            "value": "Filter: 100%"
          }
        },
        "0693562f4d2a4209a41f3df2091e4b11": {
          "model_module": "@jupyter-widgets/controls",
          "model_name": "FloatProgressModel",
          "model_module_version": "1.5.0",
          "state": {
            "_dom_classes": [],
            "_model_module": "@jupyter-widgets/controls",
            "_model_module_version": "1.5.0",
            "_model_name": "FloatProgressModel",
            "_view_count": null,
            "_view_module": "@jupyter-widgets/controls",
            "_view_module_version": "1.5.0",
            "_view_name": "ProgressView",
            "bar_style": "success",
            "description": "",
            "description_tooltip": null,
            "layout": "IPY_MODEL_22cfdb71dce44b82bd54cee0923deef2",
            "max": 3877,
            "min": 0,
            "orientation": "horizontal",
            "style": "IPY_MODEL_5023f1e793a34e15b4cfc4b394e28094",
            "value": 3877
          }
        },
        "37cdf86b8b044ed3852993c2606bfb48": {
          "model_module": "@jupyter-widgets/controls",
          "model_name": "HTMLModel",
          "model_module_version": "1.5.0",
          "state": {
            "_dom_classes": [],
            "_model_module": "@jupyter-widgets/controls",
            "_model_module_version": "1.5.0",
            "_model_name": "HTMLModel",
            "_view_count": null,
            "_view_module": "@jupyter-widgets/controls",
            "_view_module_version": "1.5.0",
            "_view_name": "HTMLView",
            "description": "",
            "description_tooltip": null,
            "layout": "IPY_MODEL_3b0eb4ca912a45a5ae19827e52e48a85",
            "placeholder": "​",
            "style": "IPY_MODEL_ca29f2f4c0614268adcff8950a8f4feb",
            "value": " 3877/3877 [00:00&lt;00:00, 90991.24 examples/s]"
          }
        },
        "6ae1aaa478ee4b0a8a83d2256f7c0d5e": {
          "model_module": "@jupyter-widgets/base",
          "model_name": "LayoutModel",
          "model_module_version": "1.2.0",
          "state": {
            "_model_module": "@jupyter-widgets/base",
            "_model_module_version": "1.2.0",
            "_model_name": "LayoutModel",
            "_view_count": null,
            "_view_module": "@jupyter-widgets/base",
            "_view_module_version": "1.2.0",
            "_view_name": "LayoutView",
            "align_content": null,
            "align_items": null,
            "align_self": null,
            "border": null,
            "bottom": null,
            "display": null,
            "flex": null,
            "flex_flow": null,
            "grid_area": null,
            "grid_auto_columns": null,
            "grid_auto_flow": null,
            "grid_auto_rows": null,
            "grid_column": null,
            "grid_gap": null,
            "grid_row": null,
            "grid_template_areas": null,
            "grid_template_columns": null,
            "grid_template_rows": null,
            "height": null,
            "justify_content": null,
            "justify_items": null,
            "left": null,
            "margin": null,
            "max_height": null,
            "max_width": null,
            "min_height": null,
            "min_width": null,
            "object_fit": null,
            "object_position": null,
            "order": null,
            "overflow": null,
            "overflow_x": null,
            "overflow_y": null,
            "padding": null,
            "right": null,
            "top": null,
            "visibility": null,
            "width": null
          }
        },
        "dcad5488b68c4e8eadd7ad9fe61c08c2": {
          "model_module": "@jupyter-widgets/base",
          "model_name": "LayoutModel",
          "model_module_version": "1.2.0",
          "state": {
            "_model_module": "@jupyter-widgets/base",
            "_model_module_version": "1.2.0",
            "_model_name": "LayoutModel",
            "_view_count": null,
            "_view_module": "@jupyter-widgets/base",
            "_view_module_version": "1.2.0",
            "_view_name": "LayoutView",
            "align_content": null,
            "align_items": null,
            "align_self": null,
            "border": null,
            "bottom": null,
            "display": null,
            "flex": null,
            "flex_flow": null,
            "grid_area": null,
            "grid_auto_columns": null,
            "grid_auto_flow": null,
            "grid_auto_rows": null,
            "grid_column": null,
            "grid_gap": null,
            "grid_row": null,
            "grid_template_areas": null,
            "grid_template_columns": null,
            "grid_template_rows": null,
            "height": null,
            "justify_content": null,
            "justify_items": null,
            "left": null,
            "margin": null,
            "max_height": null,
            "max_width": null,
            "min_height": null,
            "min_width": null,
            "object_fit": null,
            "object_position": null,
            "order": null,
            "overflow": null,
            "overflow_x": null,
            "overflow_y": null,
            "padding": null,
            "right": null,
            "top": null,
            "visibility": null,
            "width": null
          }
        },
        "adb205d98d90462c8299869f68f23682": {
          "model_module": "@jupyter-widgets/controls",
          "model_name": "DescriptionStyleModel",
          "model_module_version": "1.5.0",
          "state": {
            "_model_module": "@jupyter-widgets/controls",
            "_model_module_version": "1.5.0",
            "_model_name": "DescriptionStyleModel",
            "_view_count": null,
            "_view_module": "@jupyter-widgets/base",
            "_view_module_version": "1.2.0",
            "_view_name": "StyleView",
            "description_width": ""
          }
        },
        "22cfdb71dce44b82bd54cee0923deef2": {
          "model_module": "@jupyter-widgets/base",
          "model_name": "LayoutModel",
          "model_module_version": "1.2.0",
          "state": {
            "_model_module": "@jupyter-widgets/base",
            "_model_module_version": "1.2.0",
            "_model_name": "LayoutModel",
            "_view_count": null,
            "_view_module": "@jupyter-widgets/base",
            "_view_module_version": "1.2.0",
            "_view_name": "LayoutView",
            "align_content": null,
            "align_items": null,
            "align_self": null,
            "border": null,
            "bottom": null,
            "display": null,
            "flex": null,
            "flex_flow": null,
            "grid_area": null,
            "grid_auto_columns": null,
            "grid_auto_flow": null,
            "grid_auto_rows": null,
            "grid_column": null,
            "grid_gap": null,
            "grid_row": null,
            "grid_template_areas": null,
            "grid_template_columns": null,
            "grid_template_rows": null,
            "height": null,
            "justify_content": null,
            "justify_items": null,
            "left": null,
            "margin": null,
            "max_height": null,
            "max_width": null,
            "min_height": null,
            "min_width": null,
            "object_fit": null,
            "object_position": null,
            "order": null,
            "overflow": null,
            "overflow_x": null,
            "overflow_y": null,
            "padding": null,
            "right": null,
            "top": null,
            "visibility": null,
            "width": null
          }
        },
        "5023f1e793a34e15b4cfc4b394e28094": {
          "model_module": "@jupyter-widgets/controls",
          "model_name": "ProgressStyleModel",
          "model_module_version": "1.5.0",
          "state": {
            "_model_module": "@jupyter-widgets/controls",
            "_model_module_version": "1.5.0",
            "_model_name": "ProgressStyleModel",
            "_view_count": null,
            "_view_module": "@jupyter-widgets/base",
            "_view_module_version": "1.2.0",
            "_view_name": "StyleView",
            "bar_color": null,
            "description_width": ""
          }
        },
        "3b0eb4ca912a45a5ae19827e52e48a85": {
          "model_module": "@jupyter-widgets/base",
          "model_name": "LayoutModel",
          "model_module_version": "1.2.0",
          "state": {
            "_model_module": "@jupyter-widgets/base",
            "_model_module_version": "1.2.0",
            "_model_name": "LayoutModel",
            "_view_count": null,
            "_view_module": "@jupyter-widgets/base",
            "_view_module_version": "1.2.0",
            "_view_name": "LayoutView",
            "align_content": null,
            "align_items": null,
            "align_self": null,
            "border": null,
            "bottom": null,
            "display": null,
            "flex": null,
            "flex_flow": null,
            "grid_area": null,
            "grid_auto_columns": null,
            "grid_auto_flow": null,
            "grid_auto_rows": null,
            "grid_column": null,
            "grid_gap": null,
            "grid_row": null,
            "grid_template_areas": null,
            "grid_template_columns": null,
            "grid_template_rows": null,
            "height": null,
            "justify_content": null,
            "justify_items": null,
            "left": null,
            "margin": null,
            "max_height": null,
            "max_width": null,
            "min_height": null,
            "min_width": null,
            "object_fit": null,
            "object_position": null,
            "order": null,
            "overflow": null,
            "overflow_x": null,
            "overflow_y": null,
            "padding": null,
            "right": null,
            "top": null,
            "visibility": null,
            "width": null
          }
        },
        "ca29f2f4c0614268adcff8950a8f4feb": {
          "model_module": "@jupyter-widgets/controls",
          "model_name": "DescriptionStyleModel",
          "model_module_version": "1.5.0",
          "state": {
            "_model_module": "@jupyter-widgets/controls",
            "_model_module_version": "1.5.0",
            "_model_name": "DescriptionStyleModel",
            "_view_count": null,
            "_view_module": "@jupyter-widgets/base",
            "_view_module_version": "1.2.0",
            "_view_name": "StyleView",
            "description_width": ""
          }
        },
        "e592ac88f0c54154a4d3c5bb02a45f9f": {
          "model_module": "@jupyter-widgets/controls",
          "model_name": "HBoxModel",
          "model_module_version": "1.5.0",
          "state": {
            "_dom_classes": [],
            "_model_module": "@jupyter-widgets/controls",
            "_model_module_version": "1.5.0",
            "_model_name": "HBoxModel",
            "_view_count": null,
            "_view_module": "@jupyter-widgets/controls",
            "_view_module_version": "1.5.0",
            "_view_name": "HBoxView",
            "box_style": "",
            "children": [
              "IPY_MODEL_f0051d289ade4290a9e082a988da685c",
              "IPY_MODEL_d7d1209911764480aef8d623fede95df",
              "IPY_MODEL_0edb13c2bb3b48a3bf570f3f6b565998"
            ],
            "layout": "IPY_MODEL_e91796c997d84473b7809f2801a1a122"
          }
        },
        "f0051d289ade4290a9e082a988da685c": {
          "model_module": "@jupyter-widgets/controls",
          "model_name": "HTMLModel",
          "model_module_version": "1.5.0",
          "state": {
            "_dom_classes": [],
            "_model_module": "@jupyter-widgets/controls",
            "_model_module_version": "1.5.0",
            "_model_name": "HTMLModel",
            "_view_count": null,
            "_view_module": "@jupyter-widgets/controls",
            "_view_module_version": "1.5.0",
            "_view_name": "HTMLView",
            "description": "",
            "description_tooltip": null,
            "layout": "IPY_MODEL_c7a1140eb6164a668623caa7b1ea37c1",
            "placeholder": "​",
            "style": "IPY_MODEL_3293e93fb5464c71b0742009409ba1ab",
            "value": "Filter: 100%"
          }
        },
        "d7d1209911764480aef8d623fede95df": {
          "model_module": "@jupyter-widgets/controls",
          "model_name": "FloatProgressModel",
          "model_module_version": "1.5.0",
          "state": {
            "_dom_classes": [],
            "_model_module": "@jupyter-widgets/controls",
            "_model_module_version": "1.5.0",
            "_model_name": "FloatProgressModel",
            "_view_count": null,
            "_view_module": "@jupyter-widgets/controls",
            "_view_module_version": "1.5.0",
            "_view_name": "ProgressView",
            "bar_style": "success",
            "description": "",
            "description_tooltip": null,
            "layout": "IPY_MODEL_ce0ec88343cd473fbb8ae70d08c60697",
            "max": 3877,
            "min": 0,
            "orientation": "horizontal",
            "style": "IPY_MODEL_27da857d89cc4517bf143abeaab26d2a",
            "value": 3877
          }
        },
        "0edb13c2bb3b48a3bf570f3f6b565998": {
          "model_module": "@jupyter-widgets/controls",
          "model_name": "HTMLModel",
          "model_module_version": "1.5.0",
          "state": {
            "_dom_classes": [],
            "_model_module": "@jupyter-widgets/controls",
            "_model_module_version": "1.5.0",
            "_model_name": "HTMLModel",
            "_view_count": null,
            "_view_module": "@jupyter-widgets/controls",
            "_view_module_version": "1.5.0",
            "_view_name": "HTMLView",
            "description": "",
            "description_tooltip": null,
            "layout": "IPY_MODEL_c8fc455f064f4d19ba7874339a719b9b",
            "placeholder": "​",
            "style": "IPY_MODEL_88d8030c67294d779de0c547b4d8ea01",
            "value": " 3877/3877 [00:00&lt;00:00, 84573.66 examples/s]"
          }
        },
        "e91796c997d84473b7809f2801a1a122": {
          "model_module": "@jupyter-widgets/base",
          "model_name": "LayoutModel",
          "model_module_version": "1.2.0",
          "state": {
            "_model_module": "@jupyter-widgets/base",
            "_model_module_version": "1.2.0",
            "_model_name": "LayoutModel",
            "_view_count": null,
            "_view_module": "@jupyter-widgets/base",
            "_view_module_version": "1.2.0",
            "_view_name": "LayoutView",
            "align_content": null,
            "align_items": null,
            "align_self": null,
            "border": null,
            "bottom": null,
            "display": null,
            "flex": null,
            "flex_flow": null,
            "grid_area": null,
            "grid_auto_columns": null,
            "grid_auto_flow": null,
            "grid_auto_rows": null,
            "grid_column": null,
            "grid_gap": null,
            "grid_row": null,
            "grid_template_areas": null,
            "grid_template_columns": null,
            "grid_template_rows": null,
            "height": null,
            "justify_content": null,
            "justify_items": null,
            "left": null,
            "margin": null,
            "max_height": null,
            "max_width": null,
            "min_height": null,
            "min_width": null,
            "object_fit": null,
            "object_position": null,
            "order": null,
            "overflow": null,
            "overflow_x": null,
            "overflow_y": null,
            "padding": null,
            "right": null,
            "top": null,
            "visibility": null,
            "width": null
          }
        },
        "c7a1140eb6164a668623caa7b1ea37c1": {
          "model_module": "@jupyter-widgets/base",
          "model_name": "LayoutModel",
          "model_module_version": "1.2.0",
          "state": {
            "_model_module": "@jupyter-widgets/base",
            "_model_module_version": "1.2.0",
            "_model_name": "LayoutModel",
            "_view_count": null,
            "_view_module": "@jupyter-widgets/base",
            "_view_module_version": "1.2.0",
            "_view_name": "LayoutView",
            "align_content": null,
            "align_items": null,
            "align_self": null,
            "border": null,
            "bottom": null,
            "display": null,
            "flex": null,
            "flex_flow": null,
            "grid_area": null,
            "grid_auto_columns": null,
            "grid_auto_flow": null,
            "grid_auto_rows": null,
            "grid_column": null,
            "grid_gap": null,
            "grid_row": null,
            "grid_template_areas": null,
            "grid_template_columns": null,
            "grid_template_rows": null,
            "height": null,
            "justify_content": null,
            "justify_items": null,
            "left": null,
            "margin": null,
            "max_height": null,
            "max_width": null,
            "min_height": null,
            "min_width": null,
            "object_fit": null,
            "object_position": null,
            "order": null,
            "overflow": null,
            "overflow_x": null,
            "overflow_y": null,
            "padding": null,
            "right": null,
            "top": null,
            "visibility": null,
            "width": null
          }
        },
        "3293e93fb5464c71b0742009409ba1ab": {
          "model_module": "@jupyter-widgets/controls",
          "model_name": "DescriptionStyleModel",
          "model_module_version": "1.5.0",
          "state": {
            "_model_module": "@jupyter-widgets/controls",
            "_model_module_version": "1.5.0",
            "_model_name": "DescriptionStyleModel",
            "_view_count": null,
            "_view_module": "@jupyter-widgets/base",
            "_view_module_version": "1.2.0",
            "_view_name": "StyleView",
            "description_width": ""
          }
        },
        "ce0ec88343cd473fbb8ae70d08c60697": {
          "model_module": "@jupyter-widgets/base",
          "model_name": "LayoutModel",
          "model_module_version": "1.2.0",
          "state": {
            "_model_module": "@jupyter-widgets/base",
            "_model_module_version": "1.2.0",
            "_model_name": "LayoutModel",
            "_view_count": null,
            "_view_module": "@jupyter-widgets/base",
            "_view_module_version": "1.2.0",
            "_view_name": "LayoutView",
            "align_content": null,
            "align_items": null,
            "align_self": null,
            "border": null,
            "bottom": null,
            "display": null,
            "flex": null,
            "flex_flow": null,
            "grid_area": null,
            "grid_auto_columns": null,
            "grid_auto_flow": null,
            "grid_auto_rows": null,
            "grid_column": null,
            "grid_gap": null,
            "grid_row": null,
            "grid_template_areas": null,
            "grid_template_columns": null,
            "grid_template_rows": null,
            "height": null,
            "justify_content": null,
            "justify_items": null,
            "left": null,
            "margin": null,
            "max_height": null,
            "max_width": null,
            "min_height": null,
            "min_width": null,
            "object_fit": null,
            "object_position": null,
            "order": null,
            "overflow": null,
            "overflow_x": null,
            "overflow_y": null,
            "padding": null,
            "right": null,
            "top": null,
            "visibility": null,
            "width": null
          }
        },
        "27da857d89cc4517bf143abeaab26d2a": {
          "model_module": "@jupyter-widgets/controls",
          "model_name": "ProgressStyleModel",
          "model_module_version": "1.5.0",
          "state": {
            "_model_module": "@jupyter-widgets/controls",
            "_model_module_version": "1.5.0",
            "_model_name": "ProgressStyleModel",
            "_view_count": null,
            "_view_module": "@jupyter-widgets/base",
            "_view_module_version": "1.2.0",
            "_view_name": "StyleView",
            "bar_color": null,
            "description_width": ""
          }
        },
        "c8fc455f064f4d19ba7874339a719b9b": {
          "model_module": "@jupyter-widgets/base",
          "model_name": "LayoutModel",
          "model_module_version": "1.2.0",
          "state": {
            "_model_module": "@jupyter-widgets/base",
            "_model_module_version": "1.2.0",
            "_model_name": "LayoutModel",
            "_view_count": null,
            "_view_module": "@jupyter-widgets/base",
            "_view_module_version": "1.2.0",
            "_view_name": "LayoutView",
            "align_content": null,
            "align_items": null,
            "align_self": null,
            "border": null,
            "bottom": null,
            "display": null,
            "flex": null,
            "flex_flow": null,
            "grid_area": null,
            "grid_auto_columns": null,
            "grid_auto_flow": null,
            "grid_auto_rows": null,
            "grid_column": null,
            "grid_gap": null,
            "grid_row": null,
            "grid_template_areas": null,
            "grid_template_columns": null,
            "grid_template_rows": null,
            "height": null,
            "justify_content": null,
            "justify_items": null,
            "left": null,
            "margin": null,
            "max_height": null,
            "max_width": null,
            "min_height": null,
            "min_width": null,
            "object_fit": null,
            "object_position": null,
            "order": null,
            "overflow": null,
            "overflow_x": null,
            "overflow_y": null,
            "padding": null,
            "right": null,
            "top": null,
            "visibility": null,
            "width": null
          }
        },
        "88d8030c67294d779de0c547b4d8ea01": {
          "model_module": "@jupyter-widgets/controls",
          "model_name": "DescriptionStyleModel",
          "model_module_version": "1.5.0",
          "state": {
            "_model_module": "@jupyter-widgets/controls",
            "_model_module_version": "1.5.0",
            "_model_name": "DescriptionStyleModel",
            "_view_count": null,
            "_view_module": "@jupyter-widgets/base",
            "_view_module_version": "1.2.0",
            "_view_name": "StyleView",
            "description_width": ""
          }
        }
      }
    }
  },
  "nbformat_minor": 0,
  "nbformat": 4,
  "cells": [
    {
      "cell_type": "code",
      "source": [
        "# This Python 3 environment comes with many helpful analytics libraries installed\n",
        "# It is defined by the kaggle/python Docker image: https://github.com/kaggle/docker-python\n",
        "# For example, here's several helpful packages to load\n",
        "\n",
        "import numpy as np # linear algebra\n",
        "import pandas as pd # data processing, CSV file I/O (e.g. pd.read_csv)\n",
        "\n",
        "# Input data files are available in the read-only \"../input/\" directory\n",
        "# For example, running this (by clicking run or pressing Shift+Enter) will list all files under the input directory\n",
        "\n",
        "import os\n",
        "for dirname, _, filenames in os.walk('/kaggle/input'):\n",
        "    for filename in filenames:\n",
        "        print(os.path.join(dirname, filename))\n",
        "\n",
        "# You can write up to 20GB to the current directory (/kaggle/working/) that gets preserved as output when you create a version using \"Save & Run All\"\n",
        "# You can also write temporary files to /kaggle/temp/, but they won't be saved outside of the current session"
      ],
      "metadata": {
        "_uuid": "8f2839f25d086af736a60e9eeb907d3b93b6e0e5",
        "_cell_guid": "b1076dfc-b9ad-4769-8c92-a6c4dae69d19",
        "_kg_hide-input": true,
        "_kg_hide-output": true,
        "execution": {
          "iopub.status.busy": "2024-05-31T01:16:43.187529Z",
          "iopub.execute_input": "2024-05-31T01:16:43.187795Z",
          "iopub.status.idle": "2024-05-31T01:16:43.545568Z",
          "shell.execute_reply.started": "2024-05-31T01:16:43.187762Z",
          "shell.execute_reply": "2024-05-31T01:16:43.544647Z"
        },
        "trusted": true,
        "id": "ozdb87bEhoZ-"
      },
      "execution_count": null,
      "outputs": []
    },
    {
      "cell_type": "markdown",
      "source": [
        "<div style=\"color:#FF1F26;\n",
        "           display:fill;\n",
        "           border-style: solid;\n",
        "           border-color:#C1C1C1;\n",
        "           font-size:16px;\n",
        "           font-family:Calibri;\n",
        "           background-color:#B75351;\">\n",
        "<h2 style=\"text-align: center;\n",
        "           padding: 10px;\n",
        "           color:#FFFFFF;\">\n",
        "======= Sentiment and Named Entity Recognition (NER) Analysis of Audit Comments =======\n",
        "</h2>\n",
        "</div>"
      ],
      "metadata": {
        "id": "NlTfMBnqhoaE"
      }
    },
    {
      "cell_type": "markdown",
      "source": [
        "<div style=\" background-color:#4b371c;text-align:left; padding: 13px 13px; border-radius: 8px; color: white; font-size: 16px\">\n",
        "This notebook focuses on analyzing audit comments by auditors using <b>sentiment analysis</b> and <b>named entity recognition (NER)</b>. The goal is to gain insights into the sentiment expressed in the comments and identify organizations mentioned in the comments. The analysis helps users to automatically pre-filter organizations with higher positive and negative sentiments for further diving into detailed anlaysis.\n",
        "<br><br>\n",
        "    <b>1. Data Preprocessing:</b>\n",
        "<br>- Load the audit comments dataset.\n",
        "<br>- Perform necessary data cleaning and preprocessing steps.\n",
        "<br>- Prepare the data for sentiment analysis and named entity recognition.\n",
        "<br><br>\n",
        "<b>2. Sentiment Analysis:</b>\n",
        "<br>- Apply sentiment analysis techniques to classify the sentiment of the audit comments.\n",
        "<br>- Utilize pre-trained sentiment analysis models or implement custom sentiment analysis algorithms.\n",
        "<br>- Assign sentiment labels (positive, negative, or neutral) to each comment.\n",
        "<br><br>\n",
        "<b>3. Named Entity Recognition (NER):</b>\n",
        "<br>- Employ named entity recognition techniques to identify organization names in the audit comments.\n",
        "<br>- Utilize pre-trained NER models or implement custom NER algorithms.\n",
        "<br>- Extract and tag organization names from the comments.\n",
        "<br><br>    \n",
        "<b>4. Analysis of Organizations:</b>\n",
        "<br>- Retrieve the list of organizations mentioned in the comments using NER.\n",
        "<br>- Calculate the sentiment distribution (positive, negative, and neutral) for each organization.\n",
        "<br>- Identify organizations with higher positive, negative, and neutral sentiments.\n",
        "<br>- Generate visualizations, such as bar charts, to present the sentiment distribution of organizations.\n",
        "<br><br>\n",
        "<b>5. Results and Insights:</b>\n",
        "<br>- Summarize the findings of the sentiment analysis and NER on the audit comments.\n",
        "<br>- Discuss organizations with higher positive, negative, and neutral sentiments.\n",
        "<br>- Present any patterns or trends observed in the sentiment distribution.\n",
        "<br>- Provide insights on the sentiment expressed in the audit comments and organizations mentioned.\n",
        "</div>"
      ],
      "metadata": {
        "id": "d_zjl7vuhoaH"
      }
    },
    {
      "cell_type": "markdown",
      "source": [
        "<div style=\"padding:10px;\n",
        "            color:white;\n",
        "            margin:5;\n",
        "            font-size:170%;\n",
        "            text-align:left;\n",
        "            display:fill;\n",
        "            border-radius:15px;\n",
        "            background-color:#294B8E;\n",
        "            overflow:hidden;\n",
        "            font-weight:700\"> Table of Contents</div>"
      ],
      "metadata": {
        "id": "8SShjFZChoaI"
      }
    },
    {
      "cell_type": "markdown",
      "source": [
        "<a id=\"toc\"></a>\n",
        "- [1. Notebook Setup](#1)\n",
        "- [2. Exploratory Data Analysis](#2)\n",
        "- [3. Tokenization](#3)\n",
        "- [4. Preparation of Target Labels](#4)\n",
        "- [5. Sentiment Model Training](#5)\n",
        "- [6. Sentiment Analysis](#6)\n",
        "- [7. Named Entity Recognition (NER)](#7)\n",
        "- [8. Formation of Organization Entity](#8)\n",
        "- [9. Analysis of Audit Comments](#9)\n"
      ],
      "metadata": {
        "id": "EaDQIIKGhoaJ"
      }
    },
    {
      "cell_type": "markdown",
      "source": [
        "<a id=\"1\"></a>\n",
        "# <b><span style='color:#FF0000'>1. Notebook Setup</span></b>"
      ],
      "metadata": {
        "id": "YWKo4WF3hoaJ"
      }
    },
    {
      "cell_type": "code",
      "source": [
        "!pip install datasets"
      ],
      "metadata": {
        "collapsed": true,
        "id": "q1p3mSYsoAYo",
        "outputId": "fa09adfa-34b6-4585-949f-9507c0b87cb0",
        "colab": {
          "base_uri": "https://localhost:8080/"
        }
      },
      "execution_count": 1,
      "outputs": [
        {
          "output_type": "stream",
          "name": "stdout",
          "text": [
            "Collecting datasets\n",
            "  Downloading datasets-3.4.1-py3-none-any.whl.metadata (19 kB)\n",
            "Requirement already satisfied: filelock in /usr/local/lib/python3.11/dist-packages (from datasets) (3.18.0)\n",
            "Requirement already satisfied: numpy>=1.17 in /usr/local/lib/python3.11/dist-packages (from datasets) (2.0.2)\n",
            "Requirement already satisfied: pyarrow>=15.0.0 in /usr/local/lib/python3.11/dist-packages (from datasets) (18.1.0)\n",
            "Collecting dill<0.3.9,>=0.3.0 (from datasets)\n",
            "  Downloading dill-0.3.8-py3-none-any.whl.metadata (10 kB)\n",
            "Requirement already satisfied: pandas in /usr/local/lib/python3.11/dist-packages (from datasets) (2.2.2)\n",
            "Requirement already satisfied: requests>=2.32.2 in /usr/local/lib/python3.11/dist-packages (from datasets) (2.32.3)\n",
            "Requirement already satisfied: tqdm>=4.66.3 in /usr/local/lib/python3.11/dist-packages (from datasets) (4.67.1)\n",
            "Collecting xxhash (from datasets)\n",
            "  Downloading xxhash-3.5.0-cp311-cp311-manylinux_2_17_x86_64.manylinux2014_x86_64.whl.metadata (12 kB)\n",
            "Collecting multiprocess<0.70.17 (from datasets)\n",
            "  Downloading multiprocess-0.70.16-py311-none-any.whl.metadata (7.2 kB)\n",
            "Collecting fsspec<=2024.12.0,>=2023.1.0 (from fsspec[http]<=2024.12.0,>=2023.1.0->datasets)\n",
            "  Downloading fsspec-2024.12.0-py3-none-any.whl.metadata (11 kB)\n",
            "Requirement already satisfied: aiohttp in /usr/local/lib/python3.11/dist-packages (from datasets) (3.11.14)\n",
            "Requirement already satisfied: huggingface-hub>=0.24.0 in /usr/local/lib/python3.11/dist-packages (from datasets) (0.29.3)\n",
            "Requirement already satisfied: packaging in /usr/local/lib/python3.11/dist-packages (from datasets) (24.2)\n",
            "Requirement already satisfied: pyyaml>=5.1 in /usr/local/lib/python3.11/dist-packages (from datasets) (6.0.2)\n",
            "Requirement already satisfied: aiohappyeyeballs>=2.3.0 in /usr/local/lib/python3.11/dist-packages (from aiohttp->datasets) (2.6.1)\n",
            "Requirement already satisfied: aiosignal>=1.1.2 in /usr/local/lib/python3.11/dist-packages (from aiohttp->datasets) (1.3.2)\n",
            "Requirement already satisfied: attrs>=17.3.0 in /usr/local/lib/python3.11/dist-packages (from aiohttp->datasets) (25.3.0)\n",
            "Requirement already satisfied: frozenlist>=1.1.1 in /usr/local/lib/python3.11/dist-packages (from aiohttp->datasets) (1.5.0)\n",
            "Requirement already satisfied: multidict<7.0,>=4.5 in /usr/local/lib/python3.11/dist-packages (from aiohttp->datasets) (6.2.0)\n",
            "Requirement already satisfied: propcache>=0.2.0 in /usr/local/lib/python3.11/dist-packages (from aiohttp->datasets) (0.3.0)\n",
            "Requirement already satisfied: yarl<2.0,>=1.17.0 in /usr/local/lib/python3.11/dist-packages (from aiohttp->datasets) (1.18.3)\n",
            "Requirement already satisfied: typing-extensions>=3.7.4.3 in /usr/local/lib/python3.11/dist-packages (from huggingface-hub>=0.24.0->datasets) (4.12.2)\n",
            "Requirement already satisfied: charset-normalizer<4,>=2 in /usr/local/lib/python3.11/dist-packages (from requests>=2.32.2->datasets) (3.4.1)\n",
            "Requirement already satisfied: idna<4,>=2.5 in /usr/local/lib/python3.11/dist-packages (from requests>=2.32.2->datasets) (3.10)\n",
            "Requirement already satisfied: urllib3<3,>=1.21.1 in /usr/local/lib/python3.11/dist-packages (from requests>=2.32.2->datasets) (2.3.0)\n",
            "Requirement already satisfied: certifi>=2017.4.17 in /usr/local/lib/python3.11/dist-packages (from requests>=2.32.2->datasets) (2025.1.31)\n",
            "Requirement already satisfied: python-dateutil>=2.8.2 in /usr/local/lib/python3.11/dist-packages (from pandas->datasets) (2.8.2)\n",
            "Requirement already satisfied: pytz>=2020.1 in /usr/local/lib/python3.11/dist-packages (from pandas->datasets) (2025.1)\n",
            "Requirement already satisfied: tzdata>=2022.7 in /usr/local/lib/python3.11/dist-packages (from pandas->datasets) (2025.1)\n",
            "Requirement already satisfied: six>=1.5 in /usr/local/lib/python3.11/dist-packages (from python-dateutil>=2.8.2->pandas->datasets) (1.17.0)\n",
            "Downloading datasets-3.4.1-py3-none-any.whl (487 kB)\n",
            "\u001b[2K   \u001b[90m━━━━━━━━━━━━━━━━━━━━━━━━━━━━━━━━━━━━━━━━\u001b[0m \u001b[32m487.4/487.4 kB\u001b[0m \u001b[31m20.5 MB/s\u001b[0m eta \u001b[36m0:00:00\u001b[0m\n",
            "\u001b[?25hDownloading dill-0.3.8-py3-none-any.whl (116 kB)\n",
            "\u001b[2K   \u001b[90m━━━━━━━━━━━━━━━━━━━━━━━━━━━━━━━━━━━━━━━━\u001b[0m \u001b[32m116.3/116.3 kB\u001b[0m \u001b[31m7.6 MB/s\u001b[0m eta \u001b[36m0:00:00\u001b[0m\n",
            "\u001b[?25hDownloading fsspec-2024.12.0-py3-none-any.whl (183 kB)\n",
            "\u001b[2K   \u001b[90m━━━━━━━━━━━━━━━━━━━━━━━━━━━━━━━━━━━━━━━━\u001b[0m \u001b[32m183.9/183.9 kB\u001b[0m \u001b[31m12.4 MB/s\u001b[0m eta \u001b[36m0:00:00\u001b[0m\n",
            "\u001b[?25hDownloading multiprocess-0.70.16-py311-none-any.whl (143 kB)\n",
            "\u001b[2K   \u001b[90m━━━━━━━━━━━━━━━━━━━━━━━━━━━━━━━━━━━━━━━━\u001b[0m \u001b[32m143.5/143.5 kB\u001b[0m \u001b[31m9.5 MB/s\u001b[0m eta \u001b[36m0:00:00\u001b[0m\n",
            "\u001b[?25hDownloading xxhash-3.5.0-cp311-cp311-manylinux_2_17_x86_64.manylinux2014_x86_64.whl (194 kB)\n",
            "\u001b[2K   \u001b[90m━━━━━━━━━━━━━━━━━━━━━━━━━━━━━━━━━━━━━━━━\u001b[0m \u001b[32m194.8/194.8 kB\u001b[0m \u001b[31m12.5 MB/s\u001b[0m eta \u001b[36m0:00:00\u001b[0m\n",
            "\u001b[?25hInstalling collected packages: xxhash, fsspec, dill, multiprocess, datasets\n",
            "  Attempting uninstall: fsspec\n",
            "    Found existing installation: fsspec 2025.3.0\n",
            "    Uninstalling fsspec-2025.3.0:\n",
            "      Successfully uninstalled fsspec-2025.3.0\n",
            "\u001b[31mERROR: pip's dependency resolver does not currently take into account all the packages that are installed. This behaviour is the source of the following dependency conflicts.\n",
            "gcsfs 2025.3.0 requires fsspec==2025.3.0, but you have fsspec 2024.12.0 which is incompatible.\n",
            "torch 2.6.0+cu124 requires nvidia-cublas-cu12==12.4.5.8; platform_system == \"Linux\" and platform_machine == \"x86_64\", but you have nvidia-cublas-cu12 12.5.3.2 which is incompatible.\n",
            "torch 2.6.0+cu124 requires nvidia-cuda-cupti-cu12==12.4.127; platform_system == \"Linux\" and platform_machine == \"x86_64\", but you have nvidia-cuda-cupti-cu12 12.5.82 which is incompatible.\n",
            "torch 2.6.0+cu124 requires nvidia-cuda-nvrtc-cu12==12.4.127; platform_system == \"Linux\" and platform_machine == \"x86_64\", but you have nvidia-cuda-nvrtc-cu12 12.5.82 which is incompatible.\n",
            "torch 2.6.0+cu124 requires nvidia-cuda-runtime-cu12==12.4.127; platform_system == \"Linux\" and platform_machine == \"x86_64\", but you have nvidia-cuda-runtime-cu12 12.5.82 which is incompatible.\n",
            "torch 2.6.0+cu124 requires nvidia-cudnn-cu12==9.1.0.70; platform_system == \"Linux\" and platform_machine == \"x86_64\", but you have nvidia-cudnn-cu12 9.3.0.75 which is incompatible.\n",
            "torch 2.6.0+cu124 requires nvidia-cufft-cu12==11.2.1.3; platform_system == \"Linux\" and platform_machine == \"x86_64\", but you have nvidia-cufft-cu12 11.2.3.61 which is incompatible.\n",
            "torch 2.6.0+cu124 requires nvidia-curand-cu12==10.3.5.147; platform_system == \"Linux\" and platform_machine == \"x86_64\", but you have nvidia-curand-cu12 10.3.6.82 which is incompatible.\n",
            "torch 2.6.0+cu124 requires nvidia-cusolver-cu12==11.6.1.9; platform_system == \"Linux\" and platform_machine == \"x86_64\", but you have nvidia-cusolver-cu12 11.6.3.83 which is incompatible.\n",
            "torch 2.6.0+cu124 requires nvidia-cusparse-cu12==12.3.1.170; platform_system == \"Linux\" and platform_machine == \"x86_64\", but you have nvidia-cusparse-cu12 12.5.1.3 which is incompatible.\n",
            "torch 2.6.0+cu124 requires nvidia-nvjitlink-cu12==12.4.127; platform_system == \"Linux\" and platform_machine == \"x86_64\", but you have nvidia-nvjitlink-cu12 12.5.82 which is incompatible.\u001b[0m\u001b[31m\n",
            "\u001b[0mSuccessfully installed datasets-3.4.1 dill-0.3.8 fsspec-2024.12.0 multiprocess-0.70.16 xxhash-3.5.0\n"
          ]
        }
      ]
    },
    {
      "cell_type": "code",
      "source": [
        "# Import the Libraries\n",
        "import pandas as pd\n",
        "import numpy as np\n",
        "import matplotlib.pyplot as plt\n",
        "from IPython.display import HTML\n",
        "from sklearn.model_selection import train_test_split\n",
        "from sklearn.metrics import accuracy_score\n",
        "from IPython.display import display\n",
        "\n",
        "# tensorflow tensors\n",
        "import tensorflow as tf"
      ],
      "metadata": {
        "execution": {
          "iopub.status.busy": "2024-05-31T01:16:43.547281Z",
          "iopub.execute_input": "2024-05-31T01:16:43.547738Z",
          "iopub.status.idle": "2024-05-31T01:16:52.463472Z",
          "shell.execute_reply.started": "2024-05-31T01:16:43.547706Z",
          "shell.execute_reply": "2024-05-31T01:16:52.462662Z"
        },
        "trusted": true,
        "id": "qtiQcrlWhoaK"
      },
      "execution_count": 2,
      "outputs": []
    },
    {
      "cell_type": "markdown",
      "source": [
        "## Load the dataset from Hugging Face"
      ],
      "metadata": {
        "id": "bRKQ5esMhoaL"
      }
    },
    {
      "cell_type": "code",
      "source": [
        "from datasets import load_dataset\n",
        "\n",
        "# import the auditor comment dataset from Hugging Face\n",
        "dataset = load_dataset(\"FinanceInc/auditor_sentiment\")\n",
        "\n",
        "# label: a label corresponding to the class as a string:\n",
        "# 2 - positive; 1 - neutral; 0 - negative'"
      ],
      "metadata": {
        "execution": {
          "iopub.status.busy": "2024-05-31T01:16:52.464588Z",
          "iopub.execute_input": "2024-05-31T01:16:52.465286Z",
          "iopub.status.idle": "2024-05-31T01:17:02.147711Z",
          "shell.execute_reply.started": "2024-05-31T01:16:52.465244Z",
          "shell.execute_reply": "2024-05-31T01:17:02.146788Z"
        },
        "trusted": true,
        "id": "YiV-B_3RhoaL",
        "outputId": "eb810252-8d53-4ffb-b710-ede3f401a1af",
        "colab": {
          "base_uri": "https://localhost:8080/",
          "height": 333,
          "referenced_widgets": [
            "1a1507d7b2eb4e2da123945f793b33c2",
            "5ba5a285b6e2416d81d92484b2efc7c7",
            "85d17d42bd6b42c284594d2ffbb8a21b",
            "6ff91930fb164768b1bfb16220944b7c",
            "a7debdd33fc548a0bb811493c8872d98",
            "084adfa5e1124190b1511f01bf1652cb",
            "90c0f87e20de4b22bb31af7efb7e2e05",
            "37cae4ff08b14eea84ad63d9699781d7",
            "f91fbc7824fa4ddd8336f522ea2713f0",
            "3a3d8d78fc0b4720b4feffda70cb1404",
            "b1d849b1d0f54edda80b8c8f0f4b1385",
            "5ead060b49b74cfda1326e82aa4dfce1",
            "bf023123afdb42a9a91d04e964f9a3b1",
            "29b738246d384067b6d68f43429ac5cb",
            "fbb3b85dfa89485586f00cfa69be6a1d",
            "63ba72f3531c4fb99e35962803cdda9f",
            "c59ed68ddd964a96994973e52a414b45",
            "fa371f4d4d0943808f4132a0791a001c",
            "44c9ac48586d4fd7b0fd38ffc95e6e51",
            "2b102c42c4cd4c1c9002d84b14c83f29",
            "521da4de50a945e68bb0c7f8d6f611b0",
            "54fdef17c50a4c8aa3b2889a6a44b10d",
            "73d1c51aea7649a59bb1a61eedba77d3",
            "e6ad86d9de9a4b24be219189b1d21fd4",
            "36780b004d8f41a484b830268c50a519",
            "28cad6cf9a13428184217a6a84014f9a",
            "b2fcce6f98d64e3f9e797c5b9ccd73e6",
            "0eca3391645e46b6bc0a8dbd2bc2005f",
            "4729e4b033a14b96ac20bd2a3967c452",
            "ec40cd9d63964a048b77d89b175ee3d5",
            "b43a10c407c546f0bae1c0b9219c4904",
            "6ef449a999cb41d184f51437e374c46a",
            "e13e5b01aad043eeb09f70d9296a13ea",
            "cb023582dbe641afa8e0010eeec5ca34",
            "5ce908930b9a4538bc2f98fefb501e86",
            "9a0523cf02dd4620b1cd6e52a86d6ae0",
            "bef49b311bd940bba1541f9be6621589",
            "5b23727a57d245b0b1fc796ea78f76dc",
            "f176c201dd7c405ba6708da0c8260ccd",
            "6deecd5b539e478e80e7ff212283b99a",
            "6b0ab622d55048ccb9e8468233c2e9ef",
            "2f7fa9a34f9045a68feb0d69727bddbb",
            "80626b4be4dd473b870f5d8f30827364",
            "4722c370b27c4ff5ac502d3019b4a782",
            "63309791664548d58d2e141966969864",
            "d7dcc5b236ca484fada637af68f8d169",
            "be45937b68d94127bb602cf6def9b4ba",
            "4ef8eb4b81ce4e3f9bee6943575a3922",
            "66dfbfe29712434ba9881ef4cfa1cdd1",
            "29bf0941344a44c7b1a2acfd8d81fac6",
            "3a7f85790cad434abddd514e9448a2f5",
            "4503353a38ce4f9e9b0625e20f9e214d",
            "9746fe0f748546088d62eefc41d6d119",
            "eb3cc5db87fa475593795a1719e5898b",
            "a4a9f5b7670c4eca91b74072e5d45707",
            "1451cef5d97f46c09d1a5cdda9a9abd9",
            "23576ca21f61471a8b408dce9796800b",
            "cf86cfcebd9d4eba8fee52552bc4f379",
            "cf707d39946b4e99b3a9d20e9ee3e36e",
            "edb4fc25e5454ffbaa55e8e6a8e54325",
            "9c88fbba5e1e4d3dab93188f7e320b65",
            "8a7d3cd367d940a18d845bce63958958",
            "a7b665001f624cc480f2a83f16784da6",
            "aad68f2308ed4d7e871d8e7035383a4e",
            "acd412bbf3734633b0d1ac89725fb448",
            "4f8df4585d2b47018da056eed78e3a02"
          ]
        }
      },
      "execution_count": 3,
      "outputs": [
        {
          "output_type": "stream",
          "name": "stderr",
          "text": [
            "/usr/local/lib/python3.11/dist-packages/huggingface_hub/utils/_auth.py:94: UserWarning: \n",
            "The secret `HF_TOKEN` does not exist in your Colab secrets.\n",
            "To authenticate with the Hugging Face Hub, create a token in your settings tab (https://huggingface.co/settings/tokens), set it as secret in your Google Colab and restart your session.\n",
            "You will be able to reuse this secret in all of your notebooks.\n",
            "Please note that authentication is recommended but still optional to access public models or datasets.\n",
            "  warnings.warn(\n"
          ]
        },
        {
          "output_type": "display_data",
          "data": {
            "text/plain": [
              "README.md:   0%|          | 0.00/3.71k [00:00<?, ?B/s]"
            ],
            "application/vnd.jupyter.widget-view+json": {
              "version_major": 2,
              "version_minor": 0,
              "model_id": "1a1507d7b2eb4e2da123945f793b33c2"
            }
          },
          "metadata": {}
        },
        {
          "output_type": "display_data",
          "data": {
            "text/plain": [
              "dataset_infos.json:   0%|          | 0.00/800 [00:00<?, ?B/s]"
            ],
            "application/vnd.jupyter.widget-view+json": {
              "version_major": 2,
              "version_minor": 0,
              "model_id": "5ead060b49b74cfda1326e82aa4dfce1"
            }
          },
          "metadata": {}
        },
        {
          "output_type": "display_data",
          "data": {
            "text/plain": [
              "train-00000-of-00001.parquet:   0%|          | 0.00/327k [00:00<?, ?B/s]"
            ],
            "application/vnd.jupyter.widget-view+json": {
              "version_major": 2,
              "version_minor": 0,
              "model_id": "73d1c51aea7649a59bb1a61eedba77d3"
            }
          },
          "metadata": {}
        },
        {
          "output_type": "display_data",
          "data": {
            "text/plain": [
              "test-00000-of-00001.parquet:   0%|          | 0.00/80.9k [00:00<?, ?B/s]"
            ],
            "application/vnd.jupyter.widget-view+json": {
              "version_major": 2,
              "version_minor": 0,
              "model_id": "cb023582dbe641afa8e0010eeec5ca34"
            }
          },
          "metadata": {}
        },
        {
          "output_type": "display_data",
          "data": {
            "text/plain": [
              "Generating train split:   0%|          | 0/3877 [00:00<?, ? examples/s]"
            ],
            "application/vnd.jupyter.widget-view+json": {
              "version_major": 2,
              "version_minor": 0,
              "model_id": "63309791664548d58d2e141966969864"
            }
          },
          "metadata": {}
        },
        {
          "output_type": "display_data",
          "data": {
            "text/plain": [
              "Generating test split:   0%|          | 0/969 [00:00<?, ? examples/s]"
            ],
            "application/vnd.jupyter.widget-view+json": {
              "version_major": 2,
              "version_minor": 0,
              "model_id": "1451cef5d97f46c09d1a5cdda9a9abd9"
            }
          },
          "metadata": {}
        }
      ]
    },
    {
      "cell_type": "code",
      "source": [
        "# Train dataset\n",
        "dataset['train']"
      ],
      "metadata": {
        "execution": {
          "iopub.status.busy": "2024-05-31T01:17:02.150336Z",
          "iopub.execute_input": "2024-05-31T01:17:02.150845Z",
          "iopub.status.idle": "2024-05-31T01:17:02.156992Z",
          "shell.execute_reply.started": "2024-05-31T01:17:02.150818Z",
          "shell.execute_reply": "2024-05-31T01:17:02.156088Z"
        },
        "trusted": true,
        "id": "YtER6iLjhoaM",
        "outputId": "ac1ce93b-d5ab-49fe-dd1d-dff8bdbc34ab",
        "colab": {
          "base_uri": "https://localhost:8080/"
        }
      },
      "execution_count": 4,
      "outputs": [
        {
          "output_type": "execute_result",
          "data": {
            "text/plain": [
              "Dataset({\n",
              "    features: ['sentence', 'label'],\n",
              "    num_rows: 3877\n",
              "})"
            ]
          },
          "metadata": {},
          "execution_count": 4
        }
      ]
    },
    {
      "cell_type": "code",
      "source": [
        "# Test dataset\n",
        "dataset['test']"
      ],
      "metadata": {
        "execution": {
          "iopub.status.busy": "2024-05-31T01:17:02.158341Z",
          "iopub.execute_input": "2024-05-31T01:17:02.158681Z",
          "iopub.status.idle": "2024-05-31T01:17:02.170244Z",
          "shell.execute_reply.started": "2024-05-31T01:17:02.158649Z",
          "shell.execute_reply": "2024-05-31T01:17:02.169366Z"
        },
        "trusted": true,
        "id": "2MNJStNZhoaM",
        "outputId": "d7ca9d74-2747-4c60-ac3b-c3bfe6fa0722",
        "colab": {
          "base_uri": "https://localhost:8080/"
        }
      },
      "execution_count": 5,
      "outputs": [
        {
          "output_type": "execute_result",
          "data": {
            "text/plain": [
              "Dataset({\n",
              "    features: ['sentence', 'label'],\n",
              "    num_rows: 969\n",
              "})"
            ]
          },
          "metadata": {},
          "execution_count": 5
        }
      ]
    },
    {
      "cell_type": "markdown",
      "source": [
        "<a id=\"2\"></a>\n",
        "# <b><span style='color:#FF0000'>2. Exploratory Data Analysis</span></b>"
      ],
      "metadata": {
        "id": "4e8oZboYhoaM"
      }
    },
    {
      "cell_type": "markdown",
      "source": [
        "<div style=\" background-color:#b22222;text-align:left; padding: 13px 13px; border-radius: 8px; color: white; font-size: 16px\">\n",
        "Explore the structure, format, and composition of the text dataset. Identify and handle issues such as missing data, noise, inconsistencies, and formatting errors. Preprocess the text data by removing irrelevant information, special characters, stopwords, and performing tasks like tokenization and stemming.\n",
        "</div>"
      ],
      "metadata": {
        "id": "JVfm1WBuhoaN"
      }
    },
    {
      "cell_type": "markdown",
      "source": [
        "## Distribution of Sentiment Labels"
      ],
      "metadata": {
        "id": "iqccBu34hoaN"
      }
    },
    {
      "cell_type": "code",
      "source": [
        "# Distribution of Target Label\n",
        "label_list = list(dataset['train']['label'])\n",
        "df = pd.DataFrame(label_list, columns=['label'])\n",
        "\n",
        "# to display the bar charts by target values\n",
        "rst = df['label'].value_counts().plot(kind='bar')\n"
      ],
      "metadata": {
        "execution": {
          "iopub.status.busy": "2024-05-31T01:17:02.171669Z",
          "iopub.execute_input": "2024-05-31T01:17:02.171998Z",
          "iopub.status.idle": "2024-05-31T01:17:02.440087Z",
          "shell.execute_reply.started": "2024-05-31T01:17:02.171967Z",
          "shell.execute_reply": "2024-05-31T01:17:02.43916Z"
        },
        "trusted": true,
        "id": "CTG53wd2hoaN",
        "outputId": "7469e785-9f10-4922-bfd4-d407178e8a2c",
        "colab": {
          "base_uri": "https://localhost:8080/",
          "height": 444
        }
      },
      "execution_count": 6,
      "outputs": [
        {
          "output_type": "display_data",
          "data": {
            "text/plain": [
              "<Figure size 640x480 with 1 Axes>"
            ],
            "image/png": "[encoded data removed]"
          },
          "metadata": {}
        }
      ]
    },
    {
      "cell_type": "code",
      "source": [
        "df.head()"
      ],
      "metadata": {
        "id": "GvL4aI2VowFW",
        "outputId": "83ae9acf-1ece-4199-f7f8-d47d799e6586",
        "colab": {
          "base_uri": "https://localhost:8080/",
          "height": 206
        }
      },
      "execution_count": 9,
      "outputs": [
        {
          "output_type": "execute_result",
          "data": {
            "text/plain": [
              "   label\n",
              "0      2\n",
              "1      2\n",
              "2      2\n",
              "3      1\n",
              "4      1"
            ],
            "text/html": [
              "\n",
              "  <div id=\"df-3825ccaf-78f9-447c-9560-82ffc7bfcbb3\" class=\"colab-df-container\">\n",
              "    <div>\n",
              "<style scoped>\n",
              "    .dataframe tbody tr th:only-of-type {\n",
              "        vertical-align: middle;\n",
              "    }\n",
              "\n",
              "    .dataframe tbody tr th {\n",
              "        vertical-align: top;\n",
              "    }\n",
              "\n",
              "    .dataframe thead th {\n",
              "        text-align: right;\n",
              "    }\n",
              "</style>\n",
              "<table border=\"1\" class=\"dataframe\">\n",
              "  <thead>\n",
              "    <tr style=\"text-align: right;\">\n",
              "      <th></th>\n",
              "      <th>label</th>\n",
              "    </tr>\n",
              "  </thead>\n",
              "  <tbody>\n",
              "    <tr>\n",
              "      <th>0</th>\n",
              "      <td>2</td>\n",
              "    </tr>\n",
              "    <tr>\n",
              "      <th>1</th>\n",
              "      <td>2</td>\n",
              "    </tr>\n",
              "    <tr>\n",
              "      <th>2</th>\n",
              "      <td>2</td>\n",
              "    </tr>\n",
              "    <tr>\n",
              "      <th>3</th>\n",
              "      <td>1</td>\n",
              "    </tr>\n",
              "    <tr>\n",
              "      <th>4</th>\n",
              "      <td>1</td>\n",
              "    </tr>\n",
              "  </tbody>\n",
              "</table>\n",
              "</div>\n",
              "    <div class=\"colab-df-buttons\">\n",
              "\n",
              "  <div class=\"colab-df-container\">\n",
              "    <button class=\"colab-df-convert\" onclick=\"convertToInteractive('df-3825ccaf-78f9-447c-9560-82ffc7bfcbb3')\"\n",
              "            title=\"Convert this dataframe to an interactive table.\"\n",
              "            style=\"display:none;\">\n",
              "\n",
              "  <svg xmlns=\"http://www.w3.org/2000/svg\" height=\"24px\" viewBox=\"0 -960 960 960\">\n",
              "    <path d=\"M120-120v-720h720v720H120Zm60-500h600v-160H180v160Zm220 220h160v-160H400v160Zm0 220h160v-160H400v160ZM180-400h160v-160H180v160Zm440 0h160v-160H620v160ZM180-180h160v-160H180v160Zm440 0h160v-160H620v160Z\"/>\n",
              "  </svg>\n",
              "    </button>\n",
              "\n",
              "  <style>\n",
              "    .colab-df-container {\n",
              "      display:flex;\n",
              "      gap: 12px;\n",
              "    }\n",
              "\n",
              "    .colab-df-convert {\n",
              "      background-color: #E8F0FE;\n",
              "      border: none;\n",
              "      border-radius: 50%;\n",
              "      cursor: pointer;\n",
              "      display: none;\n",
              "      fill: #1967D2;\n",
              "      height: 32px;\n",
              "      padding: 0 0 0 0;\n",
              "      width: 32px;\n",
              "    }\n",
              "\n",
              "    .colab-df-convert:hover {\n",
              "      background-color: #E2EBFA;\n",
              "      box-shadow: 0px 1px 2px rgba(60, 64, 67, 0.3), 0px 1px 3px 1px rgba(60, 64, 67, 0.15);\n",
              "      fill: #174EA6;\n",
              "    }\n",
              "\n",
              "    .colab-df-buttons div {\n",
              "      margin-bottom: 4px;\n",
              "    }\n",
              "\n",
              "    [theme=dark] .colab-df-convert {\n",
              "      background-color: #3B4455;\n",
              "      fill: #D2E3FC;\n",
              "    }\n",
              "\n",
              "    [theme=dark] .colab-df-convert:hover {\n",
              "      background-color: #434B5C;\n",
              "      box-shadow: 0px 1px 3px 1px rgba(0, 0, 0, 0.15);\n",
              "      filter: drop-shadow(0px 1px 2px rgba(0, 0, 0, 0.3));\n",
              "      fill: #FFFFFF;\n",
              "    }\n",
              "  </style>\n",
              "\n",
              "    <script>\n",
              "      const buttonEl =\n",
              "        document.querySelector('#df-3825ccaf-78f9-447c-9560-82ffc7bfcbb3 button.colab-df-convert');\n",
              "      buttonEl.style.display =\n",
              "        google.colab.kernel.accessAllowed ? 'block' : 'none';\n",
              "\n",
              "      async function convertToInteractive(key) {\n",
              "        const element = document.querySelector('#df-3825ccaf-78f9-447c-9560-82ffc7bfcbb3');\n",
              "        const dataTable =\n",
              "          await google.colab.kernel.invokeFunction('convertToInteractive',\n",
              "                                                    [key], {});\n",
              "        if (!dataTable) return;\n",
              "\n",
              "        const docLinkHtml = 'Like what you see? Visit the ' +\n",
              "          '<a target=\"_blank\" href=https://colab.research.google.com/notebooks/data_table.ipynb>data table notebook</a>'\n",
              "          + ' to learn more about interactive tables.';\n",
              "        element.innerHTML = '';\n",
              "        dataTable['output_type'] = 'display_data';\n",
              "        await google.colab.output.renderOutput(dataTable, element);\n",
              "        const docLink = document.createElement('div');\n",
              "        docLink.innerHTML = docLinkHtml;\n",
              "        element.appendChild(docLink);\n",
              "      }\n",
              "    </script>\n",
              "  </div>\n",
              "\n",
              "\n",
              "<div id=\"df-866dc1e0-f394-4ed5-a72e-95ded36d47f0\">\n",
              "  <button class=\"colab-df-quickchart\" onclick=\"quickchart('df-866dc1e0-f394-4ed5-a72e-95ded36d47f0')\"\n",
              "            title=\"Suggest charts\"\n",
              "            style=\"display:none;\">\n",
              "\n",
              "<svg xmlns=\"http://www.w3.org/2000/svg\" height=\"24px\"viewBox=\"0 0 24 24\"\n",
              "     width=\"24px\">\n",
              "    <g>\n",
              "        <path d=\"M19 3H5c-1.1 0-2 .9-2 2v14c0 1.1.9 2 2 2h14c1.1 0 2-.9 2-2V5c0-1.1-.9-2-2-2zM9 17H7v-7h2v7zm4 0h-2V7h2v10zm4 0h-2v-4h2v4z\"/>\n",
              "    </g>\n",
              "</svg>\n",
              "  </button>\n",
              "\n",
              "<style>\n",
              "  .colab-df-quickchart {\n",
              "      --bg-color: #E8F0FE;\n",
              "      --fill-color: #1967D2;\n",
              "      --hover-bg-color: #E2EBFA;\n",
              "      --hover-fill-color: #174EA6;\n",
              "      --disabled-fill-color: #AAA;\n",
              "      --disabled-bg-color: #DDD;\n",
              "  }\n",
              "\n",
              "  [theme=dark] .colab-df-quickchart {\n",
              "      --bg-color: #3B4455;\n",
              "      --fill-color: #D2E3FC;\n",
              "      --hover-bg-color: #434B5C;\n",
              "      --hover-fill-color: #FFFFFF;\n",
              "      --disabled-bg-color: #3B4455;\n",
              "      --disabled-fill-color: #666;\n",
              "  }\n",
              "\n",
              "  .colab-df-quickchart {\n",
              "    background-color: var(--bg-color);\n",
              "    border: none;\n",
              "    border-radius: 50%;\n",
              "    cursor: pointer;\n",
              "    display: none;\n",
              "    fill: var(--fill-color);\n",
              "    height: 32px;\n",
              "    padding: 0;\n",
              "    width: 32px;\n",
              "  }\n",
              "\n",
              "  .colab-df-quickchart:hover {\n",
              "    background-color: var(--hover-bg-color);\n",
              "    box-shadow: 0 1px 2px rgba(60, 64, 67, 0.3), 0 1px 3px 1px rgba(60, 64, 67, 0.15);\n",
              "    fill: var(--button-hover-fill-color);\n",
              "  }\n",
              "\n",
              "  .colab-df-quickchart-complete:disabled,\n",
              "  .colab-df-quickchart-complete:disabled:hover {\n",
              "    background-color: var(--disabled-bg-color);\n",
              "    fill: var(--disabled-fill-color);\n",
              "    box-shadow: none;\n",
              "  }\n",
              "\n",
              "  .colab-df-spinner {\n",
              "    border: 2px solid var(--fill-color);\n",
              "    border-color: transparent;\n",
              "    border-bottom-color: var(--fill-color);\n",
              "    animation:\n",
              "      spin 1s steps(1) infinite;\n",
              "  }\n",
              "\n",
              "  @keyframes spin {\n",
              "    0% {\n",
              "      border-color: transparent;\n",
              "      border-bottom-color: var(--fill-color);\n",
              "      border-left-color: var(--fill-color);\n",
              "    }\n",
              "    20% {\n",
              "      border-color: transparent;\n",
              "      border-left-color: var(--fill-color);\n",
              "      border-top-color: var(--fill-color);\n",
              "    }\n",
              "    30% {\n",
              "      border-color: transparent;\n",
              "      border-left-color: var(--fill-color);\n",
              "      border-top-color: var(--fill-color);\n",
              "      border-right-color: var(--fill-color);\n",
              "    }\n",
              "    40% {\n",
              "      border-color: transparent;\n",
              "      border-right-color: var(--fill-color);\n",
              "      border-top-color: var(--fill-color);\n",
              "    }\n",
              "    60% {\n",
              "      border-color: transparent;\n",
              "      border-right-color: var(--fill-color);\n",
              "    }\n",
              "    80% {\n",
              "      border-color: transparent;\n",
              "      border-right-color: var(--fill-color);\n",
              "      border-bottom-color: var(--fill-color);\n",
              "    }\n",
              "    90% {\n",
              "      border-color: transparent;\n",
              "      border-bottom-color: var(--fill-color);\n",
              "    }\n",
              "  }\n",
              "</style>\n",
              "\n",
              "  <script>\n",
              "    async function quickchart(key) {\n",
              "      const quickchartButtonEl =\n",
              "        document.querySelector('#' + key + ' button');\n",
              "      quickchartButtonEl.disabled = true;  // To prevent multiple clicks.\n",
              "      quickchartButtonEl.classList.add('colab-df-spinner');\n",
              "      try {\n",
              "        const charts = await google.colab.kernel.invokeFunction(\n",
              "            'suggestCharts', [key], {});\n",
              "      } catch (error) {\n",
              "        console.error('Error during call to suggestCharts:', error);\n",
              "      }\n",
              "      quickchartButtonEl.classList.remove('colab-df-spinner');\n",
              "      quickchartButtonEl.classList.add('colab-df-quickchart-complete');\n",
              "    }\n",
              "    (() => {\n",
              "      let quickchartButtonEl =\n",
              "        document.querySelector('#df-866dc1e0-f394-4ed5-a72e-95ded36d47f0 button');\n",
              "      quickchartButtonEl.style.display =\n",
              "        google.colab.kernel.accessAllowed ? 'block' : 'none';\n",
              "    })();\n",
              "  </script>\n",
              "</div>\n",
              "\n",
              "    </div>\n",
              "  </div>\n"
            ],
            "application/vnd.google.colaboratory.intrinsic+json": {
              "type": "dataframe",
              "variable_name": "df",
              "summary": "{\n  \"name\": \"df\",\n  \"rows\": 3877,\n  \"fields\": [\n    {\n      \"column\": \"label\",\n      \"properties\": {\n        \"dtype\": \"number\",\n        \"std\": 0,\n        \"min\": 0,\n        \"max\": 2,\n        \"num_unique_values\": 3,\n        \"samples\": [\n          2,\n          1,\n          0\n        ],\n        \"semantic_type\": \"\",\n        \"description\": \"\"\n      }\n    }\n  ]\n}"
            }
          },
          "metadata": {},
          "execution_count": 9
        }
      ]
    },
    {
      "cell_type": "markdown",
      "source": [
        "## Positive and Negative Sentiment"
      ],
      "metadata": {
        "id": "JL4eDUpJhoaN"
      }
    },
    {
      "cell_type": "code",
      "source": [
        "# Exmaine the positive and negative comments\n",
        "positive_dataset = dataset['train'].filter(lambda row: row['label'] == 2)\n",
        "negative_dataset = dataset['train'].filter(lambda row: row['label'] == 0)"
      ],
      "metadata": {
        "execution": {
          "iopub.status.busy": "2024-05-31T01:17:02.441277Z",
          "iopub.execute_input": "2024-05-31T01:17:02.441629Z",
          "iopub.status.idle": "2024-05-31T01:17:02.566492Z",
          "shell.execute_reply.started": "2024-05-31T01:17:02.441602Z",
          "shell.execute_reply": "2024-05-31T01:17:02.5656Z"
        },
        "trusted": true,
        "id": "n9LojwLihoaN",
        "outputId": "3a1cab2a-733c-41a3-f0bc-0f208e287fb5",
        "colab": {
          "base_uri": "https://localhost:8080/",
          "height": 81,
          "referenced_widgets": [
            "d3a2c032ad7442e7a146b44a2d39d420",
            "d811247e42c84c3d892be8e7a51d5523",
            "0693562f4d2a4209a41f3df2091e4b11",
            "37cdf86b8b044ed3852993c2606bfb48",
            "6ae1aaa478ee4b0a8a83d2256f7c0d5e",
            "dcad5488b68c4e8eadd7ad9fe61c08c2",
            "adb205d98d90462c8299869f68f23682",
            "22cfdb71dce44b82bd54cee0923deef2",
            "5023f1e793a34e15b4cfc4b394e28094",
            "3b0eb4ca912a45a5ae19827e52e48a85",
            "ca29f2f4c0614268adcff8950a8f4feb",
            "e592ac88f0c54154a4d3c5bb02a45f9f",
            "f0051d289ade4290a9e082a988da685c",
            "d7d1209911764480aef8d623fede95df",
            "0edb13c2bb3b48a3bf570f3f6b565998",
            "e91796c997d84473b7809f2801a1a122",
            "c7a1140eb6164a668623caa7b1ea37c1",
            "3293e93fb5464c71b0742009409ba1ab",
            "ce0ec88343cd473fbb8ae70d08c60697",
            "27da857d89cc4517bf143abeaab26d2a",
            "c8fc455f064f4d19ba7874339a719b9b",
            "88d8030c67294d779de0c547b4d8ea01"
          ]
        }
      },
      "execution_count": 7,
      "outputs": [
        {
          "output_type": "display_data",
          "data": {
            "text/plain": [
              "Filter:   0%|          | 0/3877 [00:00<?, ? examples/s]"
            ],
            "application/vnd.jupyter.widget-view+json": {
              "version_major": 2,
              "version_minor": 0,
              "model_id": "d3a2c032ad7442e7a146b44a2d39d420"
            }
          },
          "metadata": {}
        },
        {
          "output_type": "display_data",
          "data": {
            "text/plain": [
              "Filter:   0%|          | 0/3877 [00:00<?, ? examples/s]"
            ],
            "application/vnd.jupyter.widget-view+json": {
              "version_major": 2,
              "version_minor": 0,
              "model_id": "e592ac88f0c54154a4d3c5bb02a45f9f"
            }
          },
          "metadata": {}
        }
      ]
    },
    {
      "cell_type": "code",
      "source": [
        "# List out some positive comments\n",
        "positive_dataset[0:5]"
      ],
      "metadata": {
        "execution": {
          "iopub.status.busy": "2024-05-31T01:17:02.567688Z",
          "iopub.execute_input": "2024-05-31T01:17:02.567954Z",
          "iopub.status.idle": "2024-05-31T01:17:02.574272Z",
          "shell.execute_reply.started": "2024-05-31T01:17:02.56793Z",
          "shell.execute_reply": "2024-05-31T01:17:02.573333Z"
        },
        "trusted": true,
        "id": "scZQ24DShoaN",
        "outputId": "165ce251-0605-416d-fd56-06634a87edb1",
        "colab": {
          "base_uri": "https://localhost:8080/"
        }
      },
      "execution_count": 10,
      "outputs": [
        {
          "output_type": "execute_result",
          "data": {
            "text/plain": [
              "{'sentence': [\"Altia 's operating profit jumped to EUR 47 million from EUR 6.6 million .\",\n",
              "  'The agreement was signed with Biohit Healthcare Ltd , the UK-based subsidiary of Biohit Oyj , a Finnish public company which develops , manufactures and markets liquid handling products and diagnostic test systems .',\n",
              "  'Kesko pursues a strategy of healthy , focused growth concentrating on sales and services to consumer-customers .',\n",
              "  \"Elcoteq 's stock of orders has stabilised in the past weeks , Mr Krippl said .\",\n",
              "  'UPM-Kymmene has generated seventeen consecutive quarters of positive Cash Flow from Operations .'],\n",
              " 'label': [2, 2, 2, 2, 2]}"
            ]
          },
          "metadata": {},
          "execution_count": 10
        }
      ]
    },
    {
      "cell_type": "code",
      "source": [
        "# List out some negative comments\n",
        "negative_dataset[0:5]"
      ],
      "metadata": {
        "execution": {
          "iopub.status.busy": "2024-05-31T01:17:02.575367Z",
          "iopub.execute_input": "2024-05-31T01:17:02.575673Z",
          "iopub.status.idle": "2024-05-31T01:17:02.590381Z",
          "shell.execute_reply.started": "2024-05-31T01:17:02.575649Z",
          "shell.execute_reply": "2024-05-31T01:17:02.589502Z"
        },
        "trusted": true,
        "id": "HmHOWoqGhoaO"
      },
      "execution_count": null,
      "outputs": []
    },
    {
      "cell_type": "markdown",
      "source": [
        "<a id=\"3\"></a>\n",
        "# <b><span style='color:#FF0000'>3. Tokenization</span></b>"
      ],
      "metadata": {
        "id": "9K7dHGXWhoaO"
      }
    },
    {
      "cell_type": "markdown",
      "source": [
        "<div style=\" background-color:#b22222;text-align:left; padding: 13px 13px; border-radius: 8px; color: white; font-size: 16px\">\n",
        "Tokenization in Transformer NLP refers to the process of breaking down a sequence of text, such as a sentence or a document, into individual tokens or subword units. It is a crucial step in natural language processing tasks that involve machine learning models like BERT.\n",
        "</div>"
      ],
      "metadata": {
        "id": "FXJSXh0shoaO"
      }
    },
    {
      "cell_type": "code",
      "source": [
        "# Parameters\n",
        "seq_len = 512\n",
        "batch_size = 12\n",
        "\n",
        "num_samples = len(dataset['train'])\n",
        "\n",
        "# to prepare the array for target value\n",
        "print('Training array of size ({} x {})'.format(num_samples, seq_len))"
      ],
      "metadata": {
        "execution": {
          "iopub.status.busy": "2024-05-31T01:17:02.594795Z",
          "iopub.execute_input": "2024-05-31T01:17:02.59503Z",
          "iopub.status.idle": "2024-05-31T01:17:02.600399Z",
          "shell.execute_reply.started": "2024-05-31T01:17:02.59501Z",
          "shell.execute_reply": "2024-05-31T01:17:02.599495Z"
        },
        "trusted": true,
        "id": "-IBnNFPThoaO"
      },
      "execution_count": null,
      "outputs": []
    },
    {
      "cell_type": "markdown",
      "source": [
        "## Load the Transformer Model"
      ],
      "metadata": {
        "id": "APd_745YhoaO"
      }
    },
    {
      "cell_type": "code",
      "source": [
        "# Checkpoint for the Transfomer\n",
        "check_point = 'bert-base-uncased'\n",
        "\n",
        "# Import the Tokenizer of Bert\n",
        "from transformers import BertTokenizer\n",
        "\n",
        "# Load the pre-trained model\n",
        "tokenizer = BertTokenizer.from_pretrained(check_point)"
      ],
      "metadata": {
        "execution": {
          "iopub.status.busy": "2024-05-31T01:17:02.601554Z",
          "iopub.execute_input": "2024-05-31T01:17:02.601806Z",
          "iopub.status.idle": "2024-05-31T01:17:05.198655Z",
          "shell.execute_reply.started": "2024-05-31T01:17:02.601784Z",
          "shell.execute_reply": "2024-05-31T01:17:05.197711Z"
        },
        "trusted": true,
        "id": "kQcuSWwthoaO"
      },
      "execution_count": null,
      "outputs": []
    },
    {
      "cell_type": "code",
      "source": [
        "# tokenize the audit comments in the train dataset\n",
        "tokens = tokenizer(dataset['train']['sentence'], max_length=seq_len, truncation=True,\n",
        "                   padding='max_length', add_special_tokens=True,\n",
        "                   return_tensors='pt')"
      ],
      "metadata": {
        "execution": {
          "iopub.status.busy": "2024-05-31T01:17:05.19978Z",
          "iopub.execute_input": "2024-05-31T01:17:05.200084Z",
          "iopub.status.idle": "2024-05-31T01:17:13.741563Z",
          "shell.execute_reply.started": "2024-05-31T01:17:05.200059Z",
          "shell.execute_reply": "2024-05-31T01:17:13.740463Z"
        },
        "trusted": true,
        "id": "zZT6GEjdhoaO"
      },
      "execution_count": null,
      "outputs": []
    },
    {
      "cell_type": "code",
      "source": [
        "# Input ids\n",
        "tokens['input_ids']"
      ],
      "metadata": {
        "execution": {
          "iopub.status.busy": "2024-05-31T01:17:13.742897Z",
          "iopub.execute_input": "2024-05-31T01:17:13.743594Z",
          "iopub.status.idle": "2024-05-31T01:17:13.78858Z",
          "shell.execute_reply.started": "2024-05-31T01:17:13.743563Z",
          "shell.execute_reply": "2024-05-31T01:17:13.787632Z"
        },
        "trusted": true,
        "id": "36ytI-0qhoaP"
      },
      "execution_count": null,
      "outputs": []
    },
    {
      "cell_type": "code",
      "source": [
        "# Attention masks\n",
        "tokens['attention_mask']"
      ],
      "metadata": {
        "execution": {
          "iopub.status.busy": "2024-05-31T01:17:13.789834Z",
          "iopub.execute_input": "2024-05-31T01:17:13.790248Z",
          "iopub.status.idle": "2024-05-31T01:17:13.797259Z",
          "shell.execute_reply.started": "2024-05-31T01:17:13.790215Z",
          "shell.execute_reply": "2024-05-31T01:17:13.796505Z"
        },
        "trusted": true,
        "id": "Uq68vqskhoaP"
      },
      "execution_count": null,
      "outputs": []
    },
    {
      "cell_type": "markdown",
      "source": [
        "<a id=\"4\"></a>\n",
        "# <b><span style='color:#FF0000'>4. Preparation of Target Labels</span></b>"
      ],
      "metadata": {
        "id": "ABplPy-bhoaP"
      }
    },
    {
      "cell_type": "markdown",
      "source": [
        "<div style=\" background-color:#b22222;text-align:left; padding: 13px 13px; border-radius: 8px; color: white; font-size: 16px\">\n",
        "In a Transformer model, the output layer for target labels depends on the specific task being performed. The Transformer architecture is a versatile framework that can be applied to various natural language processing (NLP) tasks, such as text classification, named entity recognition, machine translation, and more.\n",
        "</div>"
      ],
      "metadata": {
        "id": "m0xUsy8jhoaP"
      }
    },
    {
      "cell_type": "code",
      "source": [
        "# first extract the list of sentiment values, i.e. 0 - 2\n",
        "arr = pd.DataFrame(dataset['train']['label'], columns=['label'])\n",
        "arr_values = arr['label'].sort_values().unique().tolist()\n",
        "print('No. of distinct label values : {}'.format(arr_values))"
      ],
      "metadata": {
        "execution": {
          "iopub.status.busy": "2024-05-31T01:17:13.798396Z",
          "iopub.execute_input": "2024-05-31T01:17:13.798736Z",
          "iopub.status.idle": "2024-05-31T01:17:13.812161Z",
          "shell.execute_reply.started": "2024-05-31T01:17:13.798705Z",
          "shell.execute_reply": "2024-05-31T01:17:13.811218Z"
        },
        "trusted": true,
        "id": "DMWEobtbhoaP"
      },
      "execution_count": null,
      "outputs": []
    },
    {
      "cell_type": "code",
      "source": [
        "# Initialize the zero array based on the size of the input_ids / attention masks\n",
        "labels = np.zeros((num_samples, len(arr_values)))\n",
        "print('Size of the target label : {}'.format(labels.shape))"
      ],
      "metadata": {
        "execution": {
          "iopub.status.busy": "2024-05-31T01:17:13.813308Z",
          "iopub.execute_input": "2024-05-31T01:17:13.813638Z",
          "iopub.status.idle": "2024-05-31T01:17:13.82173Z",
          "shell.execute_reply.started": "2024-05-31T01:17:13.813613Z",
          "shell.execute_reply": "2024-05-31T01:17:13.820943Z"
        },
        "trusted": true,
        "id": "IuOkVrWphoaP"
      },
      "execution_count": null,
      "outputs": []
    },
    {
      "cell_type": "code",
      "source": [
        "# Assign the sentimen values\n",
        "labels[np.arange(num_samples), arr['label'].tolist()] = 1\n",
        "labels"
      ],
      "metadata": {
        "execution": {
          "iopub.status.busy": "2024-05-31T01:17:13.822783Z",
          "iopub.execute_input": "2024-05-31T01:17:13.823472Z",
          "iopub.status.idle": "2024-05-31T01:17:13.834026Z",
          "shell.execute_reply.started": "2024-05-31T01:17:13.82344Z",
          "shell.execute_reply": "2024-05-31T01:17:13.833151Z"
        },
        "trusted": true,
        "id": "AYinCEZThoaQ"
      },
      "execution_count": null,
      "outputs": []
    },
    {
      "cell_type": "markdown",
      "source": [
        "<a id=\"5\"></a>\n",
        "# <b><span style='color:#FF0000'>5. Sentiment Model Training</span></b>"
      ],
      "metadata": {
        "id": "voMlv3S1hoaQ"
      }
    },
    {
      "cell_type": "markdown",
      "source": [
        "<div style=\" background-color:#b22222;text-align:left; padding: 13px 13px; border-radius: 8px; color: white; font-size: 16px\">\n",
        "Tensorflow Tensors play a fundamental role in NLP tasks as they serve as the primary data structure for storing and manipulating textual data. In Transformation model, tensors play a crucial role in tokenized Text Representation, Embedding Layers and Model Inputs and Outputs\n",
        "</div>"
      ],
      "metadata": {
        "id": "Q_lsnhr2hoaQ"
      }
    },
    {
      "cell_type": "code",
      "source": [
        "# Create the tensorflow tenors from Input Ids, Attention Masks and Labels\n",
        "ds = tf.data.Dataset.from_tensor_slices((tokens['input_ids'], tokens['attention_mask'], labels))\n",
        "ds.take(1)"
      ],
      "metadata": {
        "execution": {
          "iopub.status.busy": "2024-05-31T01:17:13.835166Z",
          "iopub.execute_input": "2024-05-31T01:17:13.835986Z",
          "iopub.status.idle": "2024-05-31T01:17:14.445725Z",
          "shell.execute_reply.started": "2024-05-31T01:17:13.83596Z",
          "shell.execute_reply": "2024-05-31T01:17:14.444652Z"
        },
        "trusted": true,
        "id": "OBypG0pZhoaR"
      },
      "execution_count": null,
      "outputs": []
    },
    {
      "cell_type": "code",
      "source": [
        "# Conver the tensors from 3d array of {3) tuples into 2d array of {2,1} tuples\n",
        "def map_func(input_ids, masks, labels):\n",
        "\n",
        "    return {'input_ids': input_ids, 'attention_mask': masks}, labels\n",
        "\n",
        "# then we use the dataset map method to apply this transformation\n",
        "ds = ds.map(map_func)\n",
        "# print(len(dataset))\n",
        "\n",
        "ds = ds.shuffle(10000).batch(batch_size, drop_remainder=True)\n",
        "# print(len(dataset))\n",
        "\n",
        "ds.take(1)"
      ],
      "metadata": {
        "execution": {
          "iopub.status.busy": "2024-05-31T01:17:14.446915Z",
          "iopub.execute_input": "2024-05-31T01:17:14.44721Z",
          "iopub.status.idle": "2024-05-31T01:17:14.514784Z",
          "shell.execute_reply.started": "2024-05-31T01:17:14.447184Z",
          "shell.execute_reply": "2024-05-31T01:17:14.513803Z"
        },
        "trusted": true,
        "id": "giAHJm2uhoaR"
      },
      "execution_count": null,
      "outputs": []
    },
    {
      "cell_type": "code",
      "source": [
        "# Create the train and test datasets for Transformer model training\n",
        "split = 0.8\n",
        "\n",
        "# we need to calculate how many batches must be taken to create 70% training set\n",
        "size = int((tokens['input_ids'].shape[0] / batch_size) * split)\n",
        "\n",
        "print('Size of the train dataset : {}, size of the validation dataset :{}'.format(size, int(tokens['input_ids'].shape[0] / batch_size - size)))"
      ],
      "metadata": {
        "execution": {
          "iopub.status.busy": "2024-05-31T01:17:14.516157Z",
          "iopub.execute_input": "2024-05-31T01:17:14.516755Z",
          "iopub.status.idle": "2024-05-31T01:17:14.522716Z",
          "shell.execute_reply.started": "2024-05-31T01:17:14.51672Z",
          "shell.execute_reply": "2024-05-31T01:17:14.521733Z"
        },
        "trusted": true,
        "id": "hi3BSmrBhoaR"
      },
      "execution_count": null,
      "outputs": []
    },
    {
      "cell_type": "code",
      "source": [
        "# Prepare the train and test data\n",
        "train_ds = ds.take(size)\n",
        "val_ds = ds.skip(size)\n",
        "\n",
        "# free up memory\n",
        "del ds"
      ],
      "metadata": {
        "execution": {
          "iopub.status.busy": "2024-05-31T01:17:14.523808Z",
          "iopub.execute_input": "2024-05-31T01:17:14.524064Z",
          "iopub.status.idle": "2024-05-31T01:17:14.53973Z",
          "shell.execute_reply.started": "2024-05-31T01:17:14.524041Z",
          "shell.execute_reply": "2024-05-31T01:17:14.539029Z"
        },
        "trusted": true,
        "id": "aucHHYnChoaR"
      },
      "execution_count": null,
      "outputs": []
    },
    {
      "cell_type": "code",
      "source": [
        "# check the train_ds\n",
        "train_ds"
      ],
      "metadata": {
        "execution": {
          "iopub.status.busy": "2024-05-31T01:17:14.540912Z",
          "iopub.execute_input": "2024-05-31T01:17:14.541284Z",
          "iopub.status.idle": "2024-05-31T01:17:14.553279Z",
          "shell.execute_reply.started": "2024-05-31T01:17:14.541253Z",
          "shell.execute_reply": "2024-05-31T01:17:14.552444Z"
        },
        "trusted": true,
        "id": "qHbth1U7hoaR"
      },
      "execution_count": null,
      "outputs": []
    },
    {
      "cell_type": "code",
      "source": [
        "# check the val_ds\n",
        "val_ds"
      ],
      "metadata": {
        "execution": {
          "iopub.status.busy": "2024-05-31T01:17:14.554546Z",
          "iopub.execute_input": "2024-05-31T01:17:14.555151Z",
          "iopub.status.idle": "2024-05-31T01:17:14.564455Z",
          "shell.execute_reply.started": "2024-05-31T01:17:14.555119Z",
          "shell.execute_reply": "2024-05-31T01:17:14.563585Z"
        },
        "trusted": true,
        "id": "s_pLB6t5hoaX"
      },
      "execution_count": null,
      "outputs": []
    },
    {
      "cell_type": "markdown",
      "source": [
        "## Build and Train the Sentiment Model"
      ],
      "metadata": {
        "id": "A6t2PjiAhoaX"
      }
    },
    {
      "cell_type": "markdown",
      "source": [
        "<div style=\" background-color:#b22222;text-align:left; padding: 13px 13px; border-radius: 8px; color: white; font-size: 16px\">\n",
        "Load a pre-trained language model and fine-tune it, extending the pre-tained model to include the input IDs and attention masks layers placed prior to the embedding layer. Examine the architecture of the pre-trained model to understand its components and how they are connected. Finally, add additional layers or modify the existing layers to adapt the model to your specific fine-tuning task.\n",
        "</div>"
      ],
      "metadata": {
        "id": "yiAMsl7ohoaX"
      }
    },
    {
      "cell_type": "code",
      "source": [
        "# Load the Transformer model\n",
        "from transformers import TFAutoModel\n",
        "\n",
        "# Set up the pre-tained model of Bert\n",
        "model = TFAutoModel.from_pretrained(check_point)"
      ],
      "metadata": {
        "execution": {
          "iopub.status.busy": "2024-05-31T01:17:14.565531Z",
          "iopub.execute_input": "2024-05-31T01:17:14.565794Z",
          "iopub.status.idle": "2024-05-31T01:17:18.562203Z",
          "shell.execute_reply.started": "2024-05-31T01:17:14.565769Z",
          "shell.execute_reply": "2024-05-31T01:17:18.561164Z"
        },
        "trusted": true,
        "id": "CtPP20_6hoaY"
      },
      "execution_count": null,
      "outputs": []
    },
    {
      "cell_type": "code",
      "source": [
        "# we can view the pre-tained Bert model using the summary method\n",
        "model.summary()"
      ],
      "metadata": {
        "execution": {
          "iopub.status.busy": "2024-05-31T01:17:18.563514Z",
          "iopub.execute_input": "2024-05-31T01:17:18.563879Z",
          "iopub.status.idle": "2024-05-31T01:17:18.608494Z",
          "shell.execute_reply.started": "2024-05-31T01:17:18.563844Z",
          "shell.execute_reply": "2024-05-31T01:17:18.607368Z"
        },
        "trusted": true,
        "id": "p7etkjg1hoaY"
      },
      "execution_count": null,
      "outputs": []
    },
    {
      "cell_type": "markdown",
      "source": [
        "## Model Architecture and Structure"
      ],
      "metadata": {
        "id": "4T2q_I0OhoaY"
      }
    },
    {
      "cell_type": "code",
      "source": [
        "# Two more input layes - input IDs and Attention Masks\n",
        "input_ids = tf.keras.layers.Input(shape=(512,), name='input_ids', dtype='int32')\n",
        "mask = tf.keras.layers.Input(shape=(512,), name='attention_mask', dtype='int32')\n",
        "\n",
        "# Embedding layer of Bert model\n",
        "embeddings = model.bert(input_ids, attention_mask=mask)[1]  # access final activations (alread max-pooled) [1]\n",
        "# convert bert embeddings into 5 output classes\n",
        "layer_1 = tf.keras.layers.Dense(1024, activation='relu')(embeddings)\n",
        "# Dropout layer with a rate of 0.5\n",
        "# x = tf.keras.layers.Dropout(0.1)(layer_1)\n",
        "layer_2 = tf.keras.layers.Dense(3, activation='softmax', name='outputs')(layer_1) # the sentiment has 3 labels"
      ],
      "metadata": {
        "execution": {
          "iopub.status.busy": "2024-05-31T01:17:18.610045Z",
          "iopub.execute_input": "2024-05-31T01:17:18.610459Z",
          "iopub.status.idle": "2024-05-31T01:17:25.204737Z",
          "shell.execute_reply.started": "2024-05-31T01:17:18.610421Z",
          "shell.execute_reply": "2024-05-31T01:17:25.203948Z"
        },
        "trusted": true,
        "id": "ZFO-j7SVhoaY"
      },
      "execution_count": null,
      "outputs": []
    },
    {
      "cell_type": "code",
      "source": [
        "# initialize model with input layers of Input IDs and Attention Masks and output layer of Outputs\n",
        "sentiment_model = tf.keras.Model(inputs=[input_ids, mask], outputs=layer_2)\n",
        "\n",
        "# (optional) freeze bert layer - to decide if the embedding layer is re-trained.\n",
        "sentiment_model.layers[2].trainable = True\n",
        "\n",
        "# print the updated model summary\n",
        "sentiment_model.summary()"
      ],
      "metadata": {
        "execution": {
          "iopub.status.busy": "2024-05-31T01:17:25.205742Z",
          "iopub.execute_input": "2024-05-31T01:17:25.206019Z",
          "iopub.status.idle": "2024-05-31T01:17:25.262429Z",
          "shell.execute_reply.started": "2024-05-31T01:17:25.205995Z",
          "shell.execute_reply": "2024-05-31T01:17:25.261539Z"
        },
        "trusted": true,
        "id": "dokPGIK8hoaY"
      },
      "execution_count": null,
      "outputs": []
    },
    {
      "cell_type": "markdown",
      "source": [
        "## Model Fine-tuning with Additional Layers"
      ],
      "metadata": {
        "id": "RDLCOyIthoaY"
      }
    },
    {
      "cell_type": "code",
      "source": [
        "# Training parameters\n",
        "# optimizer = tf.keras.optimizers.legacy.Adam(learning_rate=1e-5, decay=1e-6)\n",
        "optimizer = tf.keras.optimizers.legacy.Adam(learning_rate=1e-5, decay=1e-6)\n",
        "loss = tf.keras.losses.CategoricalCrossentropy()\n",
        "acc = tf.keras.metrics.CategoricalAccuracy('accuracy')\n",
        "\n",
        "sentiment_model.compile(optimizer=optimizer, loss=loss, metrics=[acc])"
      ],
      "metadata": {
        "execution": {
          "iopub.status.busy": "2024-05-31T01:17:25.268619Z",
          "iopub.execute_input": "2024-05-31T01:17:25.268917Z",
          "iopub.status.idle": "2024-05-31T01:17:26.78341Z",
          "shell.execute_reply.started": "2024-05-31T01:17:25.268892Z",
          "shell.execute_reply": "2024-05-31T01:17:26.782559Z"
        },
        "trusted": true,
        "id": "A4FDjJLxhoaZ"
      },
      "execution_count": null,
      "outputs": []
    },
    {
      "cell_type": "code",
      "source": [
        "# Re-train the model\n",
        "history = sentiment_model.fit(\n",
        "    train_ds,\n",
        "    validation_data=val_ds,\n",
        "    epochs=3\n",
        ")"
      ],
      "metadata": {
        "execution": {
          "iopub.status.busy": "2024-05-31T01:17:26.784592Z",
          "iopub.execute_input": "2024-05-31T01:17:26.784927Z",
          "iopub.status.idle": "2024-05-31T01:28:52.936544Z",
          "shell.execute_reply.started": "2024-05-31T01:17:26.784895Z",
          "shell.execute_reply": "2024-05-31T01:28:52.935512Z"
        },
        "trusted": true,
        "id": "En1wwJzahoaZ"
      },
      "execution_count": null,
      "outputs": []
    },
    {
      "cell_type": "code",
      "source": [
        "# free up memory\n",
        "del train_ds\n",
        "del val_ds"
      ],
      "metadata": {
        "execution": {
          "iopub.status.busy": "2024-05-31T01:28:52.937947Z",
          "iopub.execute_input": "2024-05-31T01:28:52.940126Z",
          "iopub.status.idle": "2024-05-31T01:28:52.944283Z",
          "shell.execute_reply.started": "2024-05-31T01:28:52.940097Z",
          "shell.execute_reply": "2024-05-31T01:28:52.943209Z"
        },
        "trusted": true,
        "id": "wAawDP2GhoaZ"
      },
      "execution_count": null,
      "outputs": []
    },
    {
      "cell_type": "markdown",
      "source": [
        "<a id=\"6\"></a>\n",
        "# <b><span style='color:#FF0000'>6. Sentiment Analysis</span></b>"
      ],
      "metadata": {
        "id": "0VILJW1vhoaZ"
      }
    },
    {
      "cell_type": "markdown",
      "source": [
        "<div style=\" background-color:#b22222;text-align:left; padding: 13px 13px; border-radius: 8px; color: white; font-size: 16px\">\n",
        "Sentiment analysis is a natural language processing technique used to determine the sentiment or emotional tone conveyed by a piece of text, such as a sentence, review, or social media post. It involves analyzing the text to classify it into positive, negative, or neutral sentiments. By leveraging machine learning algorithms and linguistic patterns, sentiment analysis helps extract valuable insights from large volumes of text data, enabling businesses to understand public opinion, customer feedback, and brand perception.\n",
        "</div>    "
      ],
      "metadata": {
        "id": "VMZkYaOehoaZ"
      }
    },
    {
      "cell_type": "code",
      "source": [
        "# The test data of one instance only\n",
        "def prep_data(text):\n",
        "    tokens = tokenizer.encode_plus(text, max_length=512,\n",
        "                                   truncation=True, padding='max_length',\n",
        "                                   add_special_tokens=True, return_token_type_ids=False,\n",
        "                                   return_tensors='tf')\n",
        "    # tokenizer returns int32 tensors, we need to return float64, so we use tf.cast\n",
        "    return {'input_ids': tf.cast(tokens['input_ids'], tf.float64),\n",
        "            'attention_mask': tf.cast(tokens['attention_mask'], tf.float64)}"
      ],
      "metadata": {
        "execution": {
          "iopub.status.busy": "2024-05-31T01:28:52.945467Z",
          "iopub.execute_input": "2024-05-31T01:28:52.945735Z",
          "iopub.status.idle": "2024-05-31T01:28:52.956553Z",
          "shell.execute_reply.started": "2024-05-31T01:28:52.945701Z",
          "shell.execute_reply": "2024-05-31T01:28:52.955721Z"
        },
        "trusted": true,
        "id": "j2gc6wnphoaa"
      },
      "execution_count": null,
      "outputs": []
    },
    {
      "cell_type": "code",
      "source": [
        "# The test data in array\n",
        "def prep_arry_data(text_array):\n",
        "    tokens = tokenizer.batch_encode_plus(text_array, max_length=512,\n",
        "                                         truncation=True, padding='max_length',\n",
        "                                         add_special_tokens=True, return_token_type_ids=False,\n",
        "                                         return_tensors='tf')\n",
        "    # tokenizer returns int32 tensors, we need to return float64, so we use tf.cast\n",
        "    return {'input_ids': tf.cast(tokens['input_ids'], tf.float64),\n",
        "            'attention_mask': tf.cast(tokens['attention_mask'], tf.float64)}"
      ],
      "metadata": {
        "execution": {
          "iopub.status.busy": "2024-05-31T01:28:52.95746Z",
          "iopub.execute_input": "2024-05-31T01:28:52.957725Z",
          "iopub.status.idle": "2024-05-31T01:28:52.969576Z",
          "shell.execute_reply.started": "2024-05-31T01:28:52.957701Z",
          "shell.execute_reply": "2024-05-31T01:28:52.968759Z"
        },
        "trusted": true,
        "id": "NpfOucJFhoaa"
      },
      "execution_count": null,
      "outputs": []
    },
    {
      "cell_type": "code",
      "source": [
        "# Create a dictionary to map label indices to label names\n",
        "label_mapping = {\n",
        "    0: 'Negative',\n",
        "    1: 'Neutral',\n",
        "    2: 'Positive'\n",
        "}"
      ],
      "metadata": {
        "execution": {
          "iopub.status.busy": "2024-05-31T01:28:52.970678Z",
          "iopub.execute_input": "2024-05-31T01:28:52.971024Z",
          "iopub.status.idle": "2024-05-31T01:28:52.98095Z",
          "shell.execute_reply.started": "2024-05-31T01:28:52.970991Z",
          "shell.execute_reply": "2024-05-31T01:28:52.980186Z"
        },
        "trusted": true,
        "id": "za6hkbYZhoaa"
      },
      "execution_count": null,
      "outputs": []
    },
    {
      "cell_type": "markdown",
      "source": [
        "## Single Test Case"
      ],
      "metadata": {
        "id": "OOObz4oPhoab"
      }
    },
    {
      "cell_type": "code",
      "source": [
        "text_array = [\n",
        "\"XXX's strong financial performance exceeded expectations, driven by robust sales growth and effective cost management.\",\n",
        "\"XXX demonstrated resilience in challenging economic conditions, maintaining profitability through efficient expense management.\",\n",
        "\"XXX's net income declined due to increased operating costs and lower sales volumes. Cost-cutting measures are being implemented.\",\n",
        "\"XXX maintains a strong liquidity position with healthy cash reserves, providing a solid foundation for future investments.\",\n",
        "\"XXX's profitability has steadily increased, attributed to successful product launches and expanded market reach.\",\n",
        "\"XXX's debt management efforts resulted in decreased debt levels and improved debt-to-equity ratio.\"\n",
        "\n",
        "]\n",
        "\n",
        "probs = sentiment_model.predict(prep_arry_data(text_array))\n",
        "\n",
        "# import numpy as np\n",
        "pred = np.argmax(probs, axis=1)\n",
        "\n",
        "# Sentiment output\n",
        "for count, prediction in enumerate(pred):\n",
        "    print('The sentiment for test case {} is {}.'.format(count, label_mapping.get(prediction)))"
      ],
      "metadata": {
        "execution": {
          "iopub.status.busy": "2024-05-31T01:28:52.98191Z",
          "iopub.execute_input": "2024-05-31T01:28:52.982188Z",
          "iopub.status.idle": "2024-05-31T01:28:56.470537Z",
          "shell.execute_reply.started": "2024-05-31T01:28:52.982155Z",
          "shell.execute_reply": "2024-05-31T01:28:56.469526Z"
        },
        "trusted": true,
        "id": "G6IK24lNhoab"
      },
      "execution_count": null,
      "outputs": []
    },
    {
      "cell_type": "markdown",
      "source": [
        "## Dataset of Sentences"
      ],
      "metadata": {
        "id": "r-tKoDjfhoab"
      }
    },
    {
      "cell_type": "code",
      "source": [
        "# Sentiment prediction\n",
        "probs = sentiment_model.predict(prep_arry_data(dataset['test']['sentence']))\n",
        "\n",
        "# import numpy as np\n",
        "pred = np.argmax(probs, axis=1)\n"
      ],
      "metadata": {
        "execution": {
          "iopub.status.busy": "2024-05-31T01:28:56.473305Z",
          "iopub.execute_input": "2024-05-31T01:28:56.473645Z",
          "iopub.status.idle": "2024-05-31T01:29:18.292807Z",
          "shell.execute_reply.started": "2024-05-31T01:28:56.47362Z",
          "shell.execute_reply": "2024-05-31T01:29:18.29204Z"
        },
        "trusted": true,
        "id": "26uyLtKMhoac"
      },
      "execution_count": null,
      "outputs": []
    },
    {
      "cell_type": "code",
      "source": [
        "df_test = pd.DataFrame(dataset['test']['label'], columns = ['label'])\n",
        "df_pred = pd.DataFrame(pred, columns = ['label'])"
      ],
      "metadata": {
        "execution": {
          "iopub.status.busy": "2024-05-31T01:29:18.294156Z",
          "iopub.execute_input": "2024-05-31T01:29:18.294831Z",
          "iopub.status.idle": "2024-05-31T01:29:18.302232Z",
          "shell.execute_reply.started": "2024-05-31T01:29:18.294796Z",
          "shell.execute_reply": "2024-05-31T01:29:18.301357Z"
        },
        "trusted": true,
        "id": "-i-IUmYnhoac"
      },
      "execution_count": null,
      "outputs": []
    },
    {
      "cell_type": "code",
      "source": [
        "# Calculate accuracy\n",
        "accuracy = accuracy_score(df_pred, df_test) * 100\n",
        "\n",
        "# Print the accuracy\n",
        "print(f\"Prediction Accuracy: {accuracy:.2f}%\")"
      ],
      "metadata": {
        "execution": {
          "iopub.status.busy": "2024-05-31T01:29:18.3032Z",
          "iopub.execute_input": "2024-05-31T01:29:18.303516Z",
          "iopub.status.idle": "2024-05-31T01:29:18.319052Z",
          "shell.execute_reply.started": "2024-05-31T01:29:18.303491Z",
          "shell.execute_reply": "2024-05-31T01:29:18.318163Z"
        },
        "trusted": true,
        "id": "paNNWAIfhoad"
      },
      "execution_count": null,
      "outputs": []
    },
    {
      "cell_type": "code",
      "source": [
        "# Sentiment output\n",
        "df_pred.head(5)"
      ],
      "metadata": {
        "execution": {
          "iopub.status.busy": "2024-05-31T01:29:18.320144Z",
          "iopub.execute_input": "2024-05-31T01:29:18.320433Z",
          "iopub.status.idle": "2024-05-31T01:29:18.337016Z",
          "shell.execute_reply.started": "2024-05-31T01:29:18.32041Z",
          "shell.execute_reply": "2024-05-31T01:29:18.3362Z"
        },
        "trusted": true,
        "id": "WaYKD_I1hoad"
      },
      "execution_count": null,
      "outputs": []
    },
    {
      "cell_type": "code",
      "source": [
        "# Get the value counts for each sentiment category\n",
        "pred_counts = pd.Series(pred).value_counts()\n",
        "\n",
        "# Sort the values by the X-axis (Sentiment) in ascending order\n",
        "sorted_counts = pred_counts.sort_index()\n",
        "\n",
        "# Plot the sorted values\n",
        "sorted_counts.plot(kind='bar')\n",
        "\n",
        "# Assign custom X-axis tick labels\n",
        "# Manually specify the desired labels\n",
        "x_labels = ['Negative', 'Neutral', 'Positive']\n",
        "plt.gca().set_xticklabels(x_labels)\n",
        "\n",
        "# Add labels and title\n",
        "plt.xlabel('Sentiment Category')\n",
        "plt.ylabel('Count')\n",
        "plt.title('Sentiment Distribution for Test Dataset')\n",
        "\n",
        "# Display the chart\n",
        "plt.show()"
      ],
      "metadata": {
        "execution": {
          "iopub.status.busy": "2024-05-31T01:29:18.338111Z",
          "iopub.execute_input": "2024-05-31T01:29:18.338399Z",
          "iopub.status.idle": "2024-05-31T01:29:18.585959Z",
          "shell.execute_reply.started": "2024-05-31T01:29:18.338374Z",
          "shell.execute_reply": "2024-05-31T01:29:18.584921Z"
        },
        "trusted": true,
        "id": "89q9r_60hoad"
      },
      "execution_count": null,
      "outputs": []
    },
    {
      "cell_type": "code",
      "source": [
        "# Sentiment for positive comments\n",
        "positive_pred = df_pred[df_pred['label'] == 2][0:5]\n",
        "# positive_pred\n",
        "\n",
        "# Sample output\n",
        "for idx in range(5):\n",
        "    print('The sentiment is \\033[1mPositive\\033[0m for sentence of \"\\033[4m{}\\033[0m\".'.format(dataset['test']['sentence'][positive_pred.index[idx]]))\n",
        "    print('')"
      ],
      "metadata": {
        "execution": {
          "iopub.status.busy": "2024-05-31T01:29:18.587186Z",
          "iopub.execute_input": "2024-05-31T01:29:18.587501Z",
          "iopub.status.idle": "2024-05-31T01:29:18.602245Z",
          "shell.execute_reply.started": "2024-05-31T01:29:18.587474Z",
          "shell.execute_reply": "2024-05-31T01:29:18.601361Z"
        },
        "trusted": true,
        "id": "KcwnjhcPhoae"
      },
      "execution_count": null,
      "outputs": []
    },
    {
      "cell_type": "code",
      "source": [
        "# Sentiment for negative comments\n",
        "negative_pred = df_pred[df_pred['label'] == 0][0:5]\n",
        "# negative_pred\n",
        "\n",
        "# Sample output\n",
        "for idx in range(5):\n",
        "    print('The sentiment is \\033[1mNegative\\033[0m for sentence of \"\\033[4m{}\\033[0m\".'.format(dataset['test']['sentence'][negative_pred.index[idx]]))\n",
        "    print('')"
      ],
      "metadata": {
        "execution": {
          "iopub.status.busy": "2024-05-31T01:29:18.603501Z",
          "iopub.execute_input": "2024-05-31T01:29:18.603853Z",
          "iopub.status.idle": "2024-05-31T01:29:18.620112Z",
          "shell.execute_reply.started": "2024-05-31T01:29:18.603819Z",
          "shell.execute_reply": "2024-05-31T01:29:18.619224Z"
        },
        "trusted": true,
        "id": "juOKFwfmhoae"
      },
      "execution_count": null,
      "outputs": []
    },
    {
      "cell_type": "code",
      "source": [
        "# Sentiment for neutral comments\n",
        "neutral_pred = df_pred[df_pred['label'] == 1][0:5]\n",
        "# negative_pred\n",
        "\n",
        "# Sample output\n",
        "for idx in range(5):\n",
        "    print('The sentiment is \\033[1mNeutral\\033[0m for sentence of \"\\033[4m{}\\033[0m\".'.format(dataset['test']['sentence'][negative_pred.index[idx]]))\n",
        "    print('')"
      ],
      "metadata": {
        "execution": {
          "iopub.status.busy": "2024-05-31T01:29:18.621115Z",
          "iopub.execute_input": "2024-05-31T01:29:18.621436Z",
          "iopub.status.idle": "2024-05-31T01:29:18.638849Z",
          "shell.execute_reply.started": "2024-05-31T01:29:18.62141Z",
          "shell.execute_reply": "2024-05-31T01:29:18.638034Z"
        },
        "trusted": true,
        "id": "1fXqtD14hoae"
      },
      "execution_count": null,
      "outputs": []
    },
    {
      "cell_type": "markdown",
      "source": [
        "<a id=\"7\"></a>\n",
        "# <b><span style='color:#FF0000'>7. Named Entity Recognition (NER)</span></b>"
      ],
      "metadata": {
        "id": "_j-vzlgmhoae"
      }
    },
    {
      "cell_type": "markdown",
      "source": [
        "<div style=\" background-color:#b22222;text-align:left; padding: 13px 13px; border-radius: 8px; color: white; font-size: 16px\">\n",
        "Named Entity REcognition (NER) is a natural language processing (NLP) task that involves identifying and classifying named entities in text into predefined categories. Named entities can include names of persons, organizations, locations, dates, quantities, and more. NER aims to extract and label these entities to provide structured information and facilitate information retrieval, question answering, information extraction, and other NLP applications. By recognizing and categorizing named entities, NER plays a crucial role in understanding and extracting valuable information from unstructured text data.\n",
        "</div>    "
      ],
      "metadata": {
        "id": "nguIk5ihhoae"
      }
    },
    {
      "cell_type": "code",
      "source": [
        "# Parameter\n",
        "ner_name = 'test'"
      ],
      "metadata": {
        "execution": {
          "iopub.status.busy": "2024-05-31T01:29:18.640027Z",
          "iopub.execute_input": "2024-05-31T01:29:18.640807Z",
          "iopub.status.idle": "2024-05-31T01:29:18.647882Z",
          "shell.execute_reply.started": "2024-05-31T01:29:18.640772Z",
          "shell.execute_reply": "2024-05-31T01:29:18.647081Z"
        },
        "trusted": true,
        "id": "3IjiMxrAhoaf"
      },
      "execution_count": null,
      "outputs": []
    },
    {
      "cell_type": "code",
      "source": [
        "# Load the model\n",
        "from transformers import AutoTokenizer, AutoModelForTokenClassification\n",
        "from transformers import pipeline\n",
        "\n",
        "checkpoint_2 = \"dslim/bert-base-NER\"\n",
        "\n",
        "# Load the pre-trained Bert model for NER\n",
        "ner_tokenizer = AutoTokenizer.from_pretrained(checkpoint_2)\n",
        "ner_model = AutoModelForTokenClassification.from_pretrained(checkpoint_2)\n"
      ],
      "metadata": {
        "execution": {
          "iopub.status.busy": "2024-05-31T01:29:18.648953Z",
          "iopub.execute_input": "2024-05-31T01:29:18.649283Z",
          "iopub.status.idle": "2024-05-31T01:29:49.883887Z",
          "shell.execute_reply.started": "2024-05-31T01:29:18.64925Z",
          "shell.execute_reply": "2024-05-31T01:29:49.88313Z"
        },
        "trusted": true,
        "id": "ECRpYWKphoaf"
      },
      "execution_count": null,
      "outputs": []
    },
    {
      "cell_type": "code",
      "source": [
        "# Use the pipeline for NER\n",
        "idx = 1\n",
        "nlp = pipeline(\"ner\", model=ner_model, tokenizer=ner_tokenizer)\n",
        "# example = dataset['test']['sentence'][idx]\n",
        "sentences = dataset[ner_name]['sentence']\n",
        "\n",
        "ner_results = nlp(sentences)\n",
        "# print(ner_results)\n",
        "# print('=' * 20)\n",
        "# print(dataset['test']['sentence'][0:1])"
      ],
      "metadata": {
        "execution": {
          "iopub.status.busy": "2024-05-31T01:29:49.885269Z",
          "iopub.execute_input": "2024-05-31T01:29:49.885637Z",
          "iopub.status.idle": "2024-05-31T01:31:03.163567Z",
          "shell.execute_reply.started": "2024-05-31T01:29:49.885603Z",
          "shell.execute_reply": "2024-05-31T01:31:03.162658Z"
        },
        "trusted": true,
        "id": "178kcjV0hoaf"
      },
      "execution_count": null,
      "outputs": []
    },
    {
      "cell_type": "code",
      "source": [
        "# Check if no. of results\n",
        "len(ner_results)"
      ],
      "metadata": {
        "execution": {
          "iopub.status.busy": "2024-05-31T01:31:03.164852Z",
          "iopub.execute_input": "2024-05-31T01:31:03.165206Z",
          "iopub.status.idle": "2024-05-31T01:31:03.171535Z",
          "shell.execute_reply.started": "2024-05-31T01:31:03.165175Z",
          "shell.execute_reply": "2024-05-31T01:31:03.170624Z"
        },
        "trusted": true,
        "id": "gM8XWe1vhoaf"
      },
      "execution_count": null,
      "outputs": []
    },
    {
      "cell_type": "markdown",
      "source": [
        "<a id=\"8\"></a>\n",
        "# <b><span style='color:#FF0000'>8. Formation of Organization Entity</span></b>"
      ],
      "metadata": {
        "id": "P1UUEdU-hoaf"
      }
    },
    {
      "cell_type": "markdown",
      "source": [
        "<div style=\" background-color:#b22222;text-align:left; padding: 13px 13px; border-radius: 8px; color: white; font-size: 16px\">\n",
        "When performing Named Entity Recognition (NER) with BERT, the I-ORG and B-ORG tags are used to construct the entity names. In NER, B-ORG represents the beginning of an organization entity, and I-ORG represents the continuation of that organization entity. By combining consecutive I-ORG and B-ORG tags, we can construct the complete organization entity name, allowing for accurate identification and extraction of organization names from text.\n",
        "</div>    "
      ],
      "metadata": {
        "id": "0PFt7y6ghoaf"
      }
    },
    {
      "cell_type": "code",
      "source": [
        "# The Bert model returns B-ORG and I-ORG, the B-ORG is the beginning of an orgnaization entity identified by the model\n",
        "# The I-ORG is a linked token to the precedent B-ORG or I-ORG token.\n",
        "# The concantation of consencutive B-ORG and subsequent I-ORG will form the name of the organization entity\n",
        "\n",
        "entity_dict = {}\n",
        "entities = []\n",
        "current_entity = \"\"\n",
        "for idx in range(len(ner_results)):\n",
        "    for token in ner_results[idx]:\n",
        "        if token['entity'] == \"B-ORG\":\n",
        "            if token['word'][0:2] == \"##\":\n",
        "                current_entity += token['word'][2:]\n",
        "            elif current_entity != '':\n",
        "                entities.append(current_entity)\n",
        "                current_entity = token['word']\n",
        "            else:\n",
        "                current_entity = token['word']\n",
        "        elif token['entity'] == \"I-ORG\":\n",
        "            if token['word'][0:2] == \"##\":\n",
        "                current_entity += token['word'][2:]\n",
        "            else:\n",
        "                current_entity += \" \" + token['word']\n",
        "\n",
        "    entities.append(current_entity) # Append the last token to the entity list\n",
        "\n",
        "    entity_dict[idx] = entities\n",
        "\n",
        "    # empty the array and current entity\n",
        "    entities = []\n",
        "    current_entity = \"\"\n",
        "\n",
        "    #     else:\n",
        "    #         if current_entity:\n",
        "    #             entities.append(current_entity)\n",
        "    #             current_entity = \"\"\n",
        "\n",
        "print('No. of records in the NER results : {}'.format(len(entity_dict)))"
      ],
      "metadata": {
        "execution": {
          "iopub.status.busy": "2024-05-31T01:31:03.172837Z",
          "iopub.execute_input": "2024-05-31T01:31:03.1732Z",
          "iopub.status.idle": "2024-05-31T01:31:03.188822Z",
          "shell.execute_reply.started": "2024-05-31T01:31:03.173165Z",
          "shell.execute_reply": "2024-05-31T01:31:03.187973Z"
        },
        "trusted": true,
        "id": "OzqE0QPvhoaf"
      },
      "execution_count": null,
      "outputs": []
    },
    {
      "cell_type": "code",
      "source": [
        "# After NER, null return will be removed, and we only need the records with return of organization names\n",
        "\n",
        "# All records and organization names after the NER\n",
        "entity_2d_array = [[k, v] for k, values in entity_dict.items() for v in values]\n",
        "\n",
        "# Remove those records with null return\n",
        "entity_2d_array_dedup = [sublist for sublist in entity_2d_array if all(item != '' for item in sublist)]\n",
        "\n",
        "print('No. of organizations in the original NER: {}'.format(len(entity_2d_array)))\n",
        "print('No. of organizations after the de-duplication: {}'.format(len(entity_2d_array_dedup)))\n"
      ],
      "metadata": {
        "execution": {
          "iopub.status.busy": "2024-05-31T01:31:03.189982Z",
          "iopub.execute_input": "2024-05-31T01:31:03.190381Z",
          "iopub.status.idle": "2024-05-31T01:31:03.202137Z",
          "shell.execute_reply.started": "2024-05-31T01:31:03.1903Z",
          "shell.execute_reply": "2024-05-31T01:31:03.201187Z"
        },
        "trusted": true,
        "id": "uaAci1EDhoag"
      },
      "execution_count": null,
      "outputs": []
    },
    {
      "cell_type": "code",
      "source": [
        "# List some of the NER results\n",
        "entity_2d_array_dedup[:10]"
      ],
      "metadata": {
        "execution": {
          "iopub.status.busy": "2024-05-31T01:31:03.203202Z",
          "iopub.execute_input": "2024-05-31T01:31:03.203574Z",
          "iopub.status.idle": "2024-05-31T01:31:03.218232Z",
          "shell.execute_reply.started": "2024-05-31T01:31:03.203538Z",
          "shell.execute_reply": "2024-05-31T01:31:03.217364Z"
        },
        "trusted": true,
        "id": "RNrpnuJ7hoag"
      },
      "execution_count": null,
      "outputs": []
    },
    {
      "cell_type": "markdown",
      "source": [
        "## Merage the Results of Sentiment and NER"
      ],
      "metadata": {
        "id": "9pY3D1Ilhoah"
      }
    },
    {
      "cell_type": "code",
      "source": [
        "# Sentiment prediction\n",
        "probs = sentiment_model.predict(prep_arry_data(dataset[ner_name]['sentence']))\n",
        "\n",
        "# import numpy as np\n",
        "pred = np.argmax(probs, axis=1)\n",
        "\n",
        "# Dataframe results\n",
        "df_pred = pd.DataFrame(pred, columns = ['label'])\n"
      ],
      "metadata": {
        "execution": {
          "iopub.status.busy": "2024-05-31T01:31:03.219241Z",
          "iopub.execute_input": "2024-05-31T01:31:03.219528Z",
          "iopub.status.idle": "2024-05-31T01:31:25.095184Z",
          "shell.execute_reply.started": "2024-05-31T01:31:03.219504Z",
          "shell.execute_reply": "2024-05-31T01:31:25.09424Z"
        },
        "trusted": true,
        "id": "pd2dJumyhoah"
      },
      "execution_count": null,
      "outputs": []
    },
    {
      "cell_type": "code",
      "source": [
        "df_pred.value_counts()"
      ],
      "metadata": {
        "execution": {
          "iopub.status.busy": "2024-05-31T01:31:25.096544Z",
          "iopub.execute_input": "2024-05-31T01:31:25.096827Z",
          "iopub.status.idle": "2024-05-31T01:31:25.108823Z",
          "shell.execute_reply.started": "2024-05-31T01:31:25.096803Z",
          "shell.execute_reply": "2024-05-31T01:31:25.107902Z"
        },
        "trusted": true,
        "id": "uyi3D1Knhoah"
      },
      "execution_count": null,
      "outputs": []
    },
    {
      "cell_type": "code",
      "source": [
        "# Merge the third item from sentiment into two_dimensional_array\n",
        "merged_array = [sublist + [df_pred.iloc[sublist[0]][0]] for sublist in entity_2d_array_dedup]\n"
      ],
      "metadata": {
        "execution": {
          "iopub.status.busy": "2024-05-31T01:31:25.109875Z",
          "iopub.execute_input": "2024-05-31T01:31:25.110183Z",
          "iopub.status.idle": "2024-05-31T01:31:25.158541Z",
          "shell.execute_reply.started": "2024-05-31T01:31:25.110119Z",
          "shell.execute_reply": "2024-05-31T01:31:25.157536Z"
        },
        "trusted": true,
        "id": "NFgdfthfhoah"
      },
      "execution_count": null,
      "outputs": []
    },
    {
      "cell_type": "code",
      "source": [
        "# List of index value from the meraged array\n",
        "idx_array = [idx_array[0] for idx_array in merged_array]\n",
        "# idx_array = set(idx_array)\n",
        "len(idx_array)"
      ],
      "metadata": {
        "execution": {
          "iopub.status.busy": "2024-05-31T01:31:25.159766Z",
          "iopub.execute_input": "2024-05-31T01:31:25.160035Z",
          "iopub.status.idle": "2024-05-31T01:31:25.166446Z",
          "shell.execute_reply.started": "2024-05-31T01:31:25.160012Z",
          "shell.execute_reply": "2024-05-31T01:31:25.165512Z"
        },
        "trusted": true,
        "id": "RRxIPy-ehoai"
      },
      "execution_count": null,
      "outputs": []
    },
    {
      "cell_type": "code",
      "source": [
        "entity_array = [idx_array[0] for idx_array in entity_2d_array]\n",
        "\n",
        "len(entity_array)"
      ],
      "metadata": {
        "execution": {
          "iopub.status.busy": "2024-05-31T01:31:25.167629Z",
          "iopub.execute_input": "2024-05-31T01:31:25.167915Z",
          "iopub.status.idle": "2024-05-31T01:31:25.176898Z",
          "shell.execute_reply.started": "2024-05-31T01:31:25.16789Z",
          "shell.execute_reply": "2024-05-31T01:31:25.176016Z"
        },
        "trusted": true,
        "id": "hrrZPt9ihoai"
      },
      "execution_count": null,
      "outputs": []
    },
    {
      "cell_type": "markdown",
      "source": [
        "## Check if thsoe records with null entity is empty comment"
      ],
      "metadata": {
        "id": "gUCGMl7jhoai"
      }
    },
    {
      "cell_type": "code",
      "source": [
        "# Double check those records not in the merged array\n",
        "missing_items = [item for item in entity_array if item not in idx_array]\n",
        "print(missing_items[:10])"
      ],
      "metadata": {
        "execution": {
          "iopub.status.busy": "2024-05-31T01:31:25.178133Z",
          "iopub.execute_input": "2024-05-31T01:31:25.178818Z",
          "iopub.status.idle": "2024-05-31T01:31:25.194086Z",
          "shell.execute_reply.started": "2024-05-31T01:31:25.17877Z",
          "shell.execute_reply": "2024-05-31T01:31:25.193207Z"
        },
        "trusted": true,
        "id": "jY83C0emhoai"
      },
      "execution_count": null,
      "outputs": []
    },
    {
      "cell_type": "code",
      "source": [
        "# The only reasons is miss sentimenet result is due to null object return in the NER.  Let's check.\n",
        "entity_2d_array_missing = [item for item in entity_2d_array if item[0] in missing_items]\n",
        "entity_2d_array_missing[:10]"
      ],
      "metadata": {
        "execution": {
          "iopub.status.busy": "2024-05-31T01:31:25.195148Z",
          "iopub.execute_input": "2024-05-31T01:31:25.195606Z",
          "iopub.status.idle": "2024-05-31T01:31:25.210792Z",
          "shell.execute_reply.started": "2024-05-31T01:31:25.195576Z",
          "shell.execute_reply": "2024-05-31T01:31:25.209953Z"
        },
        "trusted": true,
        "id": "9KnD5ftEhoai"
      },
      "execution_count": null,
      "outputs": []
    },
    {
      "cell_type": "markdown",
      "source": [
        "## Sentiment and NER Results"
      ],
      "metadata": {
        "id": "hKlkJdZPhoai"
      }
    },
    {
      "cell_type": "code",
      "source": [
        "df_ner_sentiment = pd.DataFrame(merged_array, columns=['doc_id', 'org_name', 'sentiment_label'])\n",
        "df_ner_sentiment"
      ],
      "metadata": {
        "execution": {
          "iopub.status.busy": "2024-05-31T01:31:25.212039Z",
          "iopub.execute_input": "2024-05-31T01:31:25.212876Z",
          "iopub.status.idle": "2024-05-31T01:31:25.234931Z",
          "shell.execute_reply.started": "2024-05-31T01:31:25.212839Z",
          "shell.execute_reply": "2024-05-31T01:31:25.234016Z"
        },
        "trusted": true,
        "id": "MwA3LDnJhoaj"
      },
      "execution_count": null,
      "outputs": []
    },
    {
      "cell_type": "markdown",
      "source": [
        "<a id=\"9\"></a>\n",
        "# <b><span style='color:#FF0000'>9. Analysis of Audit Comments</span></b>"
      ],
      "metadata": {
        "id": "OAl4TjMAhoaj"
      }
    },
    {
      "cell_type": "code",
      "source": [
        "def filter_by_sentiment (label, title):\n",
        "    # Positive Comments\n",
        "    df_ner_sentiment_positive = df_ner_sentiment[df_ner_sentiment['sentiment_label'] == label]\n",
        "\n",
        "#     print(len(df_ner_sentiment_positive))\n",
        "\n",
        "    result = df_ner_sentiment_positive.groupby('org_name')['doc_id'].count().sort_values(ascending=False)\n",
        "\n",
        "    # Convert and display dataframe as HTML\n",
        "    title_str = 'Top 10 Companies with ' + title + ' Audit Comments based on Sentiment Analysis'\n",
        "    print('='*len(title_str))\n",
        "    print(title_str)\n",
        "    print('='*len(title_str))\n",
        "    display(result.head(10))\n",
        "\n",
        "#     result_positive = result_positive[result_positive >= 3]\n",
        "#     result_positive\n",
        "\n",
        "    # Plot the data as a bar chart\n",
        "#     plt.bar(result_positive.index, result_positive.values)\n",
        "\n",
        "    # Set labels and title\n",
        "#     plt.xlabel('Organization')\n",
        "#     plt.ylabel('Count')\n",
        "#     plt.title(title)\n",
        "\n",
        "    # Rotate the x-axis labels if needed\n",
        "#     plt.xticks(rotation=90)\n",
        "\n",
        "    # Show the bar chart\n",
        "#     plt.show()\n",
        "\n",
        ""
      ],
      "metadata": {
        "execution": {
          "iopub.status.busy": "2024-05-31T01:31:25.236034Z",
          "iopub.execute_input": "2024-05-31T01:31:25.236338Z",
          "iopub.status.idle": "2024-05-31T01:31:25.245107Z",
          "shell.execute_reply.started": "2024-05-31T01:31:25.236297Z",
          "shell.execute_reply": "2024-05-31T01:31:25.244351Z"
        },
        "trusted": true,
        "id": "jETG4xyyhoaj"
      },
      "execution_count": null,
      "outputs": []
    },
    {
      "cell_type": "code",
      "source": [
        "filter_by_sentiment (2, 'Positive')"
      ],
      "metadata": {
        "execution": {
          "iopub.status.busy": "2024-05-31T01:31:25.246204Z",
          "iopub.execute_input": "2024-05-31T01:31:25.246494Z",
          "iopub.status.idle": "2024-05-31T01:31:25.260986Z",
          "shell.execute_reply.started": "2024-05-31T01:31:25.24647Z",
          "shell.execute_reply": "2024-05-31T01:31:25.260117Z"
        },
        "trusted": true,
        "id": "e3TuxcXDhoaj"
      },
      "execution_count": null,
      "outputs": []
    },
    {
      "cell_type": "code",
      "source": [
        "filter_by_sentiment (0, 'Negative')"
      ],
      "metadata": {
        "execution": {
          "iopub.status.busy": "2024-05-31T01:31:25.261962Z",
          "iopub.execute_input": "2024-05-31T01:31:25.262206Z",
          "iopub.status.idle": "2024-05-31T01:31:25.271212Z",
          "shell.execute_reply.started": "2024-05-31T01:31:25.262184Z",
          "shell.execute_reply": "2024-05-31T01:31:25.270294Z"
        },
        "trusted": true,
        "id": "MQjvKFQwhoaj"
      },
      "execution_count": null,
      "outputs": []
    },
    {
      "cell_type": "code",
      "source": [
        "filter_by_sentiment (1, 'Neutral')"
      ],
      "metadata": {
        "execution": {
          "iopub.status.busy": "2024-05-31T01:31:25.27261Z",
          "iopub.execute_input": "2024-05-31T01:31:25.272862Z",
          "iopub.status.idle": "2024-05-31T01:31:25.283361Z",
          "shell.execute_reply.started": "2024-05-31T01:31:25.27284Z",
          "shell.execute_reply": "2024-05-31T01:31:25.282444Z"
        },
        "trusted": true,
        "id": "e3Bmuh3Ghoak"
      },
      "execution_count": null,
      "outputs": []
    },
    {
      "cell_type": "markdown",
      "source": [
        "<div style=\" background-color:#b22222;text-align:left; padding: 13px 13px; border-radius: 8px; color: white; font-size: 20px\">\n",
        "Thanks for your time to read my notebook. If you like my work, please give me an \"upvote\" as appreciation. Happy Kaggling together.\n",
        "</div>    "
      ],
      "metadata": {
        "id": "u4HAGiV2hoak"
      }
    },
    {
      "cell_type": "code",
      "source": [],
      "metadata": {
        "id": "27vpXATghoak"
      },
      "execution_count": null,
      "outputs": []
    },
    {
      "cell_type": "code",
      "source": [],
      "metadata": {
        "id": "0NryY4Erhoal"
      },
      "execution_count": null,
      "outputs": []
    },
    {
      "cell_type": "code",
      "source": [],
      "metadata": {
        "id": "R6xmpBUOhoal"
      },
      "execution_count": null,
      "outputs": []
    }
  ]
}